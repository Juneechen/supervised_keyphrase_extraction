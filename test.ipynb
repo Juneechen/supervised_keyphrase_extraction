{
 "cells": [
  {
   "cell_type": "code",
   "execution_count": 1,
   "metadata": {},
   "outputs": [
    {
     "name": "stderr",
     "output_type": "stream",
     "text": [
      "[nltk_data] Downloading package punkt to /Users/juneechen/nltk_data...\n",
      "[nltk_data]   Package punkt is already up-to-date!\n",
      "[nltk_data] Downloading package stopwords to\n",
      "[nltk_data]     /Users/juneechen/nltk_data...\n",
      "[nltk_data]   Package stopwords is already up-to-date!\n",
      "[nltk_data] Downloading package wordnet to\n",
      "[nltk_data]     /Users/juneechen/nltk_data...\n",
      "[nltk_data]   Package wordnet is already up-to-date!\n"
     ]
    }
   ],
   "source": [
    "import pandas as pd\n",
    "import numpy as np\n",
    "\n",
    "from tensorflow.keras.preprocessing.text import Tokenizer\n",
    "from tensorflow.keras.preprocessing.sequence import pad_sequences\n",
    "\n",
    "import util as util\n",
    "\n",
    "EMBEDDING_DIM = 50\n",
    "\n",
    "\n",
    "# TRAIN_PATH = '../dataset/SciHTC/train_title_abstract_keywords.csv'\n",
    "# TEST_PATH = '../dataset/SciHTC/test_title_abstract_keywords.csv'\n",
    "\n",
    "# # read the first 3 rows from a csv file into a dataframe\n",
    "# df = pd.read_csv(TRAIN_PATH, nrows=3)\n",
    "\n",
    "# # get the column names\n",
    "# columns = ['Title', 'Abstract']\n",
    "\n",
    "# # Concatenate two columns using the apply function\n",
    "# # df['Concatenated'] = df[columns].apply(lambda row: ' '.join(row.values.astype(str)), axis=1 )\n",
    "# df['input_tokens'] = df[columns].agg(' '.join, axis=1)\n",
    "\n",
    "# # preprocess and tokenize the combined column\n",
    "# df['input_tokens'] = df['input_tokens'].apply(lambda row: util.clean_text(row))\n",
    "\n",
    "# for index, row in df.iterrows():\n",
    "#     print(row['Title'])\n",
    "#     print(row['Abstract'])\n",
    "#     print(row['Keywords'])\n",
    "#     # print(row['Concatenated'])\n",
    "#     print('------------------')\n",
    "\n",
    "# print(type(df['input_tokens']))\n",
    "\n",
    "# # convert the input_tokens column to a numpy array\n",
    "# input_tokens = df['input_tokens'].to_numpy()\n",
    "# print(type(input_tokens))\n",
    "# print(input_tokens.shape)\n",
    "# print(df['input_tokens'][0])\n"
   ]
  },
  {
   "cell_type": "code",
   "execution_count": null,
   "metadata": {},
   "outputs": [],
   "source": []
  },
  {
   "cell_type": "code",
   "execution_count": 2,
   "metadata": {},
   "outputs": [],
   "source": [
    "# get word embeddings from the gensim package\n",
    "import gensim.downloader\n",
    "\n",
    "# download the glove embeddings\n",
    "glove_vectors = gensim.downloader.load('glove-wiki-gigaword-50')"
   ]
  },
  {
   "cell_type": "code",
   "execution_count": 3,
   "metadata": {},
   "outputs": [],
   "source": [
    "MAX_LEN = 10"
   ]
  },
  {
   "cell_type": "code",
   "execution_count": 4,
   "metadata": {},
   "outputs": [
    {
     "name": "stdout",
     "output_type": "stream",
     "text": [
      "embeddings_matrix shape: (17, 50)\n",
      "[0. 0. 0. 0. 0. 0. 0. 0. 0. 0. 0. 0. 0. 0. 0. 0. 0. 0. 0. 0. 0. 0. 0. 0.\n",
      " 0. 0. 0. 0. 0. 0. 0. 0. 0. 0. 0. 0. 0. 0. 0. 0. 0. 0. 0. 0. 0. 0. 0. 0.\n",
      " 0. 0.]\n"
     ]
    }
   ],
   "source": [
    "# create a test dataframe of 3 rows with 'Title', 'Abstract', 'Keywords' columns\n",
    "titles = ['first sample', 'second sample', 'third sample']\n",
    "abstracts = ['He likes dogs. So do I.', 'Hi, how are you? I\\'m fine', 'Cactus is a plant. It is green. It has thorns.']\n",
    "keywords = ['likes dog, cat', 'hi, bye', 'cactus, plant']\n",
    "test_df = pd.DataFrame({'Title': titles, 'Abstract': abstracts, 'Keywords': keywords})\n",
    "\n",
    "util.preprocess_data(test_df, ['Title', 'Abstract'], 'Keywords')\n",
    "\n",
    "# set up tokenizer with columns from the dataframe\n",
    "tokenizer = util.setup_tokenizer(test_df, ['input_tokens', 'clean_kp'])\n",
    "\n",
    "# get the embeddings matrix\n",
    "embeddings_matrix = util.get_embeddings_matrix(tokenizer, glove_vectors, EMBEDDING_DIM)\n",
    "\n",
    "print(\"embeddings_matrix shape:\", embeddings_matrix.shape)\n",
    "print(embeddings_matrix[0])\n",
    "\n",
    "# create the input array\n",
    "X, Y = util.create_input_array(test_df, 'input_tokens', 'clean_kp', embeddings_matrix, tokenizer, EMBEDDING_DIM, MAX_LEN)"
   ]
  },
  {
   "cell_type": "code",
   "execution_count": 5,
   "metadata": {},
   "outputs": [
    {
     "name": "stdout",
     "output_type": "stream",
     "text": [
      "(2, 10, 50)\n",
      "[[0. 0. 0. 0. 0. 0. 0. 0. 0. 0. 0. 0. 0. 0. 0. 0. 0. 0. 0. 0. 0. 0. 0. 0.\n",
      "  0. 0. 0. 0. 0. 0. 0. 0. 0. 0. 0. 0. 0. 0. 0. 0. 0. 0. 0. 0. 0. 0. 0. 0.\n",
      "  0. 0.]\n",
      " [0. 0. 0. 0. 0. 0. 0. 0. 0. 0. 0. 0. 0. 0. 0. 0. 0. 0. 0. 0. 0. 0. 0. 0.\n",
      "  0. 0. 0. 0. 0. 0. 0. 0. 0. 0. 0. 0. 0. 0. 0. 0. 0. 0. 0. 0. 0. 0. 0. 0.\n",
      "  0. 0.]\n",
      " [0. 0. 0. 0. 0. 0. 0. 0. 0. 0. 0. 0. 0. 0. 0. 0. 0. 0. 0. 0. 0. 0. 0. 0.\n",
      "  0. 0. 0. 0. 0. 0. 0. 0. 0. 0. 0. 0. 0. 0. 0. 0. 0. 0. 0. 0. 0. 0. 0. 0.\n",
      "  0. 0.]\n",
      " [0. 0. 0. 0. 0. 0. 0. 0. 0. 0. 0. 0. 0. 0. 0. 0. 0. 0. 0. 0. 0. 0. 0. 0.\n",
      "  0. 0. 0. 0. 0. 0. 0. 0. 0. 0. 0. 0. 0. 0. 0. 0. 0. 0. 0. 0. 0. 0. 0. 0.\n",
      "  0. 0.]\n",
      " [0. 0. 0. 0. 0. 0. 0. 0. 0. 0. 0. 0. 0. 0. 0. 0. 0. 0. 0. 0. 0. 0. 0. 0.\n",
      "  0. 0. 0. 0. 0. 0. 0. 0. 0. 0. 0. 0. 0. 0. 0. 0. 0. 0. 0. 0. 0. 0. 0. 0.\n",
      "  0. 0.]\n",
      " [0. 0. 0. 0. 0. 0. 0. 0. 0. 0. 0. 0. 0. 0. 0. 0. 0. 0. 0. 0. 0. 0. 0. 0.\n",
      "  0. 0. 0. 0. 0. 0. 0. 0. 0. 0. 0. 0. 0. 0. 0. 0. 0. 0. 0. 0. 0. 0. 0. 0.\n",
      "  0. 0.]\n",
      " [0. 0. 0. 0. 0. 0. 0. 0. 0. 0. 0. 0. 0. 0. 0. 0. 0. 0. 0. 0. 0. 0. 0. 0.\n",
      "  0. 0. 0. 0. 0. 0. 0. 0. 0. 0. 0. 0. 0. 0. 0. 0. 0. 0. 0. 0. 0. 0. 0. 0.\n",
      "  0. 0.]\n",
      " [0. 0. 0. 0. 0. 0. 0. 0. 0. 0. 0. 0. 0. 0. 0. 0. 0. 0. 0. 0. 0. 0. 0. 0.\n",
      "  0. 0. 0. 0. 0. 0. 0. 0. 0. 0. 0. 0. 0. 0. 0. 0. 0. 0. 0. 0. 0. 0. 0. 0.\n",
      "  0. 0.]\n",
      " [0. 0. 0. 0. 0. 0. 0. 0. 0. 0. 0. 0. 0. 0. 0. 0. 0. 0. 0. 0. 0. 0. 0. 0.\n",
      "  0. 0. 0. 0. 0. 0. 0. 0. 0. 0. 0. 0. 0. 0. 0. 0. 0. 0. 0. 0. 0. 0. 0. 0.\n",
      "  0. 0.]\n",
      " [0. 0. 0. 0. 0. 0. 0. 0. 0. 0. 0. 0. 0. 0. 0. 0. 0. 0. 0. 0. 0. 0. 0. 0.\n",
      "  0. 0. 0. 0. 0. 0. 0. 0. 0. 0. 0. 0. 0. 0. 0. 0. 0. 0. 0. 0. 0. 0. 0. 0.\n",
      "  0. 0.]]\n",
      "(2, 10)\n",
      "[0 1 1 1 1 0 0 0 0 0]\n"
     ]
    }
   ],
   "source": [
    "print(X.shape)\n",
    "print(X[0])\n",
    "print(Y.shape)\n",
    "print(Y[0])"
   ]
  },
  {
   "cell_type": "code",
   "execution_count": 6,
   "metadata": {},
   "outputs": [
    {
     "name": "stdout",
     "output_type": "stream",
     "text": [
      "tokenizer vocab size: 17\n",
      "{'sample': 1, 'hi': 2, 'cactus': 3, 'plant': 4, 'first': 5, 'like': 6, 'dog': 7, 'second': 8, 'im': 9, 'fine': 10, 'third': 11, 'green': 12, 'thorn': 13, 'like dog': 14, 'cat': 15, 'bye': 16, '<PAD>': 0}\n"
     ]
    }
   ],
   "source": [
    "# print tokenizer vocab size\n",
    "print(\"tokenizer vocab size:\", len(tokenizer.word_index))\n",
    "print(tokenizer.word_index)"
   ]
  },
  {
   "cell_type": "code",
   "execution_count": 7,
   "metadata": {},
   "outputs": [
    {
     "name": "stdout",
     "output_type": "stream",
     "text": [
      "           Title                                        Abstract  \\\n",
      "0   first sample                         He likes dogs. So do I.   \n",
      "1  second sample                       Hi, how are you? I'm fine   \n",
      "2   third sample  Cactus is a plant. It is green. It has thorns.   \n",
      "\n",
      "         Keywords                                  input_tokens  \\\n",
      "0  likes dog, cat                    [first, sample, like, dog]   \n",
      "1         hi, bye                [second, sample, hi, im, fine]   \n",
      "2   cactus, plant  [third, sample, cactus, plant, green, thorn]   \n",
      "\n",
      "          clean_kp  \n",
      "0  [like dog, cat]  \n",
      "1        [hi, bye]  \n",
      "2  [cactus, plant]  \n"
     ]
    }
   ],
   "source": [
    "print(test_df)"
   ]
  },
  {
   "cell_type": "code",
   "execution_count": null,
   "metadata": {},
   "outputs": [],
   "source": []
  },
  {
   "cell_type": "code",
   "execution_count": null,
   "metadata": {},
   "outputs": [],
   "source": []
  }
 ],
 "metadata": {
  "kernelspec": {
   "display_name": "venv-metal",
   "language": "python",
   "name": "python3"
  },
  "language_info": {
   "codemirror_mode": {
    "name": "ipython",
    "version": 3
   },
   "file_extension": ".py",
   "mimetype": "text/x-python",
   "name": "python",
   "nbconvert_exporter": "python",
   "pygments_lexer": "ipython3",
   "version": "3.11.3"
  }
 },
 "nbformat": 4,
 "nbformat_minor": 2
}
