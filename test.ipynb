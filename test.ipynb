{
 "cells": [
  {
   "cell_type": "code",
   "execution_count": 1,
   "metadata": {},
   "outputs": [
    {
     "name": "stderr",
     "output_type": "stream",
     "text": [
      "[nltk_data] Downloading package punkt to /Users/juneechen/nltk_data...\n",
      "[nltk_data]   Package punkt is already up-to-date!\n",
      "[nltk_data] Downloading package stopwords to\n",
      "[nltk_data]     /Users/juneechen/nltk_data...\n",
      "[nltk_data]   Package stopwords is already up-to-date!\n",
      "[nltk_data] Downloading package wordnet to\n",
      "[nltk_data]     /Users/juneechen/nltk_data...\n",
      "[nltk_data]   Package wordnet is already up-to-date!\n"
     ]
    }
   ],
   "source": [
    "import pandas as pd\n",
    "import numpy as np\n",
    "\n",
    "from tensorflow.keras.preprocessing.text import Tokenizer\n",
    "from tensorflow.keras.preprocessing.sequence import pad_sequences\n",
    "\n",
    "import util as util\n",
    "\n",
    "EMBEDDING_DIM = 50\n",
    "\n",
    "\n",
    "# TRAIN_PATH = '../dataset/SciHTC/train_title_abstract_keywords.csv'\n",
    "# TEST_PATH = '../dataset/SciHTC/test_title_abstract_keywords.csv'\n",
    "\n",
    "# # read the first 3 rows from a csv file into a dataframe\n",
    "# df = pd.read_csv(TRAIN_PATH, nrows=3)\n",
    "\n",
    "# # get the column names\n",
    "# columns = ['Title', 'Abstract']\n",
    "\n",
    "# # Concatenate two columns using the apply function\n",
    "# # df['Concatenated'] = df[columns].apply(lambda row: ' '.join(row.values.astype(str)), axis=1 )\n",
    "# df['input_tokens'] = df[columns].agg(' '.join, axis=1)\n",
    "\n",
    "# # preprocess and tokenize the combined column\n",
    "# df['input_tokens'] = df['input_tokens'].apply(lambda row: util.clean_text(row))\n",
    "\n",
    "# for index, row in df.iterrows():\n",
    "#     print(row['Title'])\n",
    "#     print(row['Abstract'])\n",
    "#     print(row['Keywords'])\n",
    "#     # print(row['Concatenated'])\n",
    "#     print('------------------')\n",
    "\n",
    "# print(type(df['input_tokens']))\n",
    "\n",
    "# # convert the input_tokens column to a numpy array\n",
    "# input_tokens = df['input_tokens'].to_numpy()\n",
    "# print(type(input_tokens))\n",
    "# print(input_tokens.shape)\n",
    "# print(df['input_tokens'][0])\n"
   ]
  },
  {
   "cell_type": "code",
   "execution_count": null,
   "metadata": {},
   "outputs": [],
   "source": []
  },
  {
   "cell_type": "code",
   "execution_count": 2,
   "metadata": {},
   "outputs": [],
   "source": [
    "# get word embeddings from the gensim package\n",
    "import gensim.downloader\n",
    "\n",
    "# download the glove embeddings\n",
    "glove_vectors = gensim.downloader.load('glove-wiki-gigaword-50')"
   ]
  },
  {
   "cell_type": "code",
   "execution_count": 3,
   "metadata": {},
   "outputs": [],
   "source": [
    "MAX_LEN = 10"
   ]
  },
  {
   "cell_type": "code",
   "execution_count": 8,
   "metadata": {},
   "outputs": [
    {
     "name": "stdout",
     "output_type": "stream",
     "text": [
      "embeddings_matrix shape: (17, 50)\n",
      "[0. 0. 0. 0. 0. 0. 0. 0. 0. 0. 0. 0. 0. 0. 0. 0. 0. 0. 0. 0. 0. 0. 0. 0.\n",
      " 0. 0. 0. 0. 0. 0. 0. 0. 0. 0. 0. 0. 0. 0. 0. 0. 0. 0. 0. 0. 0. 0. 0. 0.\n",
      " 0. 0.]\n"
     ]
    }
   ],
   "source": [
    "# create a test dataframe of 3 rows with 'Title', 'Abstract', 'Keywords' columns\n",
    "titles = ['first sample', 'second sample', 'third sample']\n",
    "abstracts = ['He likes dogs. So do I.', 'Hi, how are you? I\\'m fine', 'Cactus is a plant. It is green. It has thorns.']\n",
    "keywords = ['likes dog, cat', 'hi, bye', 'cactus, plant']\n",
    "test_df = pd.DataFrame({'Title': titles, 'Abstract': abstracts, 'Keywords': keywords})\n",
    "\n",
    "util.preprocess_data(test_df, ['Title', 'Abstract'], 'Keywords')\n",
    "\n",
    "# set up tokenizer with columns from the dataframe\n",
    "tokenizer = util.setup_tokenizer(test_df, ['input_tokens', 'clean_kp'])\n",
    "\n",
    "# get the embeddings matrix\n",
    "embeddings_matrix = util.get_embeddings_matrix(tokenizer, glove_vectors, EMBEDDING_DIM)\n",
    "\n",
    "print(\"embeddings_matrix shape:\", embeddings_matrix.shape)\n",
    "print(embeddings_matrix[0])\n",
    "\n",
    "# create the input array\n",
    "X, Y = util.create_input_array(test_df, 'input_tokens', 'clean_kp', embeddings_matrix, tokenizer, EMBEDDING_DIM, MAX_LEN)"
   ]
  },
  {
   "cell_type": "code",
   "execution_count": 9,
   "metadata": {},
   "outputs": [
    {
     "name": "stdout",
     "output_type": "stream",
     "text": [
      "(3, 10, 50)\n",
      "[[-1.41680002e-01  4.11080003e-01 -3.12269986e-01  1.66329995e-01\n",
      "   2.61240005e-01  4.57080007e-01 -1.20009995e+00  1.49229998e-02\n",
      "  -2.27789998e-01 -1.69369996e-01  3.46329987e-01 -1.24190003e-01\n",
      "  -6.57109976e-01  2.92259991e-01  6.24069989e-01 -5.79159975e-01\n",
      "  -3.39469999e-01 -2.20459998e-01 -1.48319995e+00  2.89579988e-01\n",
      "   8.13959986e-02 -2.16959998e-01  5.66129992e-03 -5.41989990e-02\n",
      "   9.85039994e-02 -1.58739996e+00 -2.28670001e-01 -6.29570007e-01\n",
      "  -3.95420015e-01 -8.08409974e-02  3.59489989e+00 -1.68720007e-01\n",
      "  -3.90240014e-01  2.69120000e-02  5.26459992e-01 -2.28439998e-02\n",
      "   6.32889986e-01  6.27020001e-01 -2.21709996e-01 -4.50450003e-01\n",
      "  -1.49979994e-01 -2.77229995e-01 -4.66580003e-01 -4.42680001e-01\n",
      "  -4.36910003e-01  3.84550005e-01  1.36899993e-01 -2.54240006e-01\n",
      "   1.78210009e-02 -1.48900002e-01]\n",
      " [ 3.51280004e-01  3.94969992e-02  3.52409989e-01  3.24180014e-02\n",
      "   8.02150011e-01  4.26169991e-01 -1.79729998e-01 -2.79920012e-01\n",
      "   1.29159999e+00  5.84529996e-01  6.72460020e-01 -7.01629996e-01\n",
      "   1.04499996e+00  1.27250001e-01  6.90750003e-01 -5.36700003e-02\n",
      "  -1.84990004e-01 -7.51800001e-01 -5.04700005e-01 -1.31389999e+00\n",
      "   1.54449999e-01 -1.08879998e-01  1.50999999e+00  4.59950000e-01\n",
      "   2.04520002e-01 -7.00159967e-02 -1.02199996e+00  4.66850013e-01\n",
      "  -2.48339996e-01 -3.98889989e-01  2.09590006e+00 -6.86360002e-01\n",
      "  -4.17560011e-01 -8.45220029e-01  5.95510006e-01 -1.75540000e-01\n",
      "   8.77430022e-01  8.09090018e-01  3.21579993e-01  2.01189995e-01\n",
      "   9.45200026e-01  1.16580002e-01 -1.50700003e-01  4.23170000e-01\n",
      "  -3.05180013e-01 -2.79630005e-01  7.62690008e-01  5.46310008e-01\n",
      "   1.78269997e-01 -8.16069990e-02]\n",
      " [ 3.68079990e-01  2.08340004e-01 -2.23189995e-01  4.62829992e-02\n",
      "   2.00979993e-01  2.75150001e-01 -7.71269977e-01 -7.68040001e-01\n",
      "  -3.48610014e-01  5.06200016e-01 -2.44010001e-01  7.17750013e-01\n",
      "  -3.33480000e-01  3.75539988e-01  4.47560012e-01  3.66979986e-01\n",
      "   4.35330003e-01  4.75699991e-01 -5.61130010e-02 -9.35310006e-01\n",
      "  -2.75909990e-01  3.16100001e-01  2.21159995e-01  3.63040000e-01\n",
      "   1.07570000e-01 -1.76380002e+00 -1.26240003e+00  3.02839994e-01\n",
      "   5.62860012e-01 -1.02139997e+00  3.23530006e+00  4.84829992e-01\n",
      "   2.79530007e-02  3.60819995e-02 -7.85539970e-02  1.87610000e-01\n",
      "  -5.25730014e-01  3.72000001e-02  2.75790006e-01 -7.73599967e-02\n",
      "  -2.79549986e-01  7.97519982e-01  1.60279998e-03  4.54789996e-01\n",
      "   8.83819997e-01  4.38930005e-01 -1.92629993e-01 -6.72360003e-01\n",
      "  -3.97089988e-01  2.51830012e-01]\n",
      " [ 1.10079996e-01 -3.87809992e-01 -5.76150000e-01 -2.77139992e-01\n",
      "   7.05209970e-01  5.39940000e-01 -1.07860005e+00 -4.01459992e-01\n",
      "   1.15040004e+00 -5.67799985e-01  3.89769999e-03  5.28779984e-01\n",
      "   6.45609975e-01  4.72620010e-01  4.85489994e-01 -1.84070006e-01\n",
      "   1.80099994e-01  9.13969994e-01 -1.19790006e+00 -5.77799976e-01\n",
      "  -3.79850000e-01  3.36059988e-01  7.72000015e-01  7.55550027e-01\n",
      "   4.55060005e-01 -1.76709998e+00 -1.05030000e+00  4.25660014e-01\n",
      "   4.18929994e-01 -6.83269978e-01  1.56729996e+00  2.76849985e-01\n",
      "  -6.17079973e-01  6.46380007e-01 -7.69959986e-02  3.71179998e-01\n",
      "   1.30799994e-01 -4.51370001e-01  2.53980011e-01 -7.43920028e-01\n",
      "  -8.61990005e-02  2.40679994e-01 -6.48190022e-01  8.35489988e-01\n",
      "   1.25020003e+00 -5.13790011e-01  4.22400013e-02 -8.81179988e-01\n",
      "   7.15799987e-01  3.85190010e-01]\n",
      " [ 0.00000000e+00  0.00000000e+00  0.00000000e+00  0.00000000e+00\n",
      "   0.00000000e+00  0.00000000e+00  0.00000000e+00  0.00000000e+00\n",
      "   0.00000000e+00  0.00000000e+00  0.00000000e+00  0.00000000e+00\n",
      "   0.00000000e+00  0.00000000e+00  0.00000000e+00  0.00000000e+00\n",
      "   0.00000000e+00  0.00000000e+00  0.00000000e+00  0.00000000e+00\n",
      "   0.00000000e+00  0.00000000e+00  0.00000000e+00  0.00000000e+00\n",
      "   0.00000000e+00  0.00000000e+00  0.00000000e+00  0.00000000e+00\n",
      "   0.00000000e+00  0.00000000e+00  0.00000000e+00  0.00000000e+00\n",
      "   0.00000000e+00  0.00000000e+00  0.00000000e+00  0.00000000e+00\n",
      "   0.00000000e+00  0.00000000e+00  0.00000000e+00  0.00000000e+00\n",
      "   0.00000000e+00  0.00000000e+00  0.00000000e+00  0.00000000e+00\n",
      "   0.00000000e+00  0.00000000e+00  0.00000000e+00  0.00000000e+00\n",
      "   0.00000000e+00  0.00000000e+00]\n",
      " [ 0.00000000e+00  0.00000000e+00  0.00000000e+00  0.00000000e+00\n",
      "   0.00000000e+00  0.00000000e+00  0.00000000e+00  0.00000000e+00\n",
      "   0.00000000e+00  0.00000000e+00  0.00000000e+00  0.00000000e+00\n",
      "   0.00000000e+00  0.00000000e+00  0.00000000e+00  0.00000000e+00\n",
      "   0.00000000e+00  0.00000000e+00  0.00000000e+00  0.00000000e+00\n",
      "   0.00000000e+00  0.00000000e+00  0.00000000e+00  0.00000000e+00\n",
      "   0.00000000e+00  0.00000000e+00  0.00000000e+00  0.00000000e+00\n",
      "   0.00000000e+00  0.00000000e+00  0.00000000e+00  0.00000000e+00\n",
      "   0.00000000e+00  0.00000000e+00  0.00000000e+00  0.00000000e+00\n",
      "   0.00000000e+00  0.00000000e+00  0.00000000e+00  0.00000000e+00\n",
      "   0.00000000e+00  0.00000000e+00  0.00000000e+00  0.00000000e+00\n",
      "   0.00000000e+00  0.00000000e+00  0.00000000e+00  0.00000000e+00\n",
      "   0.00000000e+00  0.00000000e+00]\n",
      " [ 0.00000000e+00  0.00000000e+00  0.00000000e+00  0.00000000e+00\n",
      "   0.00000000e+00  0.00000000e+00  0.00000000e+00  0.00000000e+00\n",
      "   0.00000000e+00  0.00000000e+00  0.00000000e+00  0.00000000e+00\n",
      "   0.00000000e+00  0.00000000e+00  0.00000000e+00  0.00000000e+00\n",
      "   0.00000000e+00  0.00000000e+00  0.00000000e+00  0.00000000e+00\n",
      "   0.00000000e+00  0.00000000e+00  0.00000000e+00  0.00000000e+00\n",
      "   0.00000000e+00  0.00000000e+00  0.00000000e+00  0.00000000e+00\n",
      "   0.00000000e+00  0.00000000e+00  0.00000000e+00  0.00000000e+00\n",
      "   0.00000000e+00  0.00000000e+00  0.00000000e+00  0.00000000e+00\n",
      "   0.00000000e+00  0.00000000e+00  0.00000000e+00  0.00000000e+00\n",
      "   0.00000000e+00  0.00000000e+00  0.00000000e+00  0.00000000e+00\n",
      "   0.00000000e+00  0.00000000e+00  0.00000000e+00  0.00000000e+00\n",
      "   0.00000000e+00  0.00000000e+00]\n",
      " [ 0.00000000e+00  0.00000000e+00  0.00000000e+00  0.00000000e+00\n",
      "   0.00000000e+00  0.00000000e+00  0.00000000e+00  0.00000000e+00\n",
      "   0.00000000e+00  0.00000000e+00  0.00000000e+00  0.00000000e+00\n",
      "   0.00000000e+00  0.00000000e+00  0.00000000e+00  0.00000000e+00\n",
      "   0.00000000e+00  0.00000000e+00  0.00000000e+00  0.00000000e+00\n",
      "   0.00000000e+00  0.00000000e+00  0.00000000e+00  0.00000000e+00\n",
      "   0.00000000e+00  0.00000000e+00  0.00000000e+00  0.00000000e+00\n",
      "   0.00000000e+00  0.00000000e+00  0.00000000e+00  0.00000000e+00\n",
      "   0.00000000e+00  0.00000000e+00  0.00000000e+00  0.00000000e+00\n",
      "   0.00000000e+00  0.00000000e+00  0.00000000e+00  0.00000000e+00\n",
      "   0.00000000e+00  0.00000000e+00  0.00000000e+00  0.00000000e+00\n",
      "   0.00000000e+00  0.00000000e+00  0.00000000e+00  0.00000000e+00\n",
      "   0.00000000e+00  0.00000000e+00]\n",
      " [ 0.00000000e+00  0.00000000e+00  0.00000000e+00  0.00000000e+00\n",
      "   0.00000000e+00  0.00000000e+00  0.00000000e+00  0.00000000e+00\n",
      "   0.00000000e+00  0.00000000e+00  0.00000000e+00  0.00000000e+00\n",
      "   0.00000000e+00  0.00000000e+00  0.00000000e+00  0.00000000e+00\n",
      "   0.00000000e+00  0.00000000e+00  0.00000000e+00  0.00000000e+00\n",
      "   0.00000000e+00  0.00000000e+00  0.00000000e+00  0.00000000e+00\n",
      "   0.00000000e+00  0.00000000e+00  0.00000000e+00  0.00000000e+00\n",
      "   0.00000000e+00  0.00000000e+00  0.00000000e+00  0.00000000e+00\n",
      "   0.00000000e+00  0.00000000e+00  0.00000000e+00  0.00000000e+00\n",
      "   0.00000000e+00  0.00000000e+00  0.00000000e+00  0.00000000e+00\n",
      "   0.00000000e+00  0.00000000e+00  0.00000000e+00  0.00000000e+00\n",
      "   0.00000000e+00  0.00000000e+00  0.00000000e+00  0.00000000e+00\n",
      "   0.00000000e+00  0.00000000e+00]\n",
      " [ 0.00000000e+00  0.00000000e+00  0.00000000e+00  0.00000000e+00\n",
      "   0.00000000e+00  0.00000000e+00  0.00000000e+00  0.00000000e+00\n",
      "   0.00000000e+00  0.00000000e+00  0.00000000e+00  0.00000000e+00\n",
      "   0.00000000e+00  0.00000000e+00  0.00000000e+00  0.00000000e+00\n",
      "   0.00000000e+00  0.00000000e+00  0.00000000e+00  0.00000000e+00\n",
      "   0.00000000e+00  0.00000000e+00  0.00000000e+00  0.00000000e+00\n",
      "   0.00000000e+00  0.00000000e+00  0.00000000e+00  0.00000000e+00\n",
      "   0.00000000e+00  0.00000000e+00  0.00000000e+00  0.00000000e+00\n",
      "   0.00000000e+00  0.00000000e+00  0.00000000e+00  0.00000000e+00\n",
      "   0.00000000e+00  0.00000000e+00  0.00000000e+00  0.00000000e+00\n",
      "   0.00000000e+00  0.00000000e+00  0.00000000e+00  0.00000000e+00\n",
      "   0.00000000e+00  0.00000000e+00  0.00000000e+00  0.00000000e+00\n",
      "   0.00000000e+00  0.00000000e+00]]\n",
      "(3, 10)\n",
      "[0 0 1 1 0 0 0 0 0 0]\n"
     ]
    }
   ],
   "source": [
    "print(X.shape)\n",
    "print(X[0])\n",
    "print(Y.shape)\n",
    "print(Y[0])"
   ]
  },
  {
   "cell_type": "code",
   "execution_count": 10,
   "metadata": {},
   "outputs": [
    {
     "name": "stdout",
     "output_type": "stream",
     "text": [
      "tokenizer vocab size: 17\n",
      "{'sample': 1, 'hi': 2, 'cactus': 3, 'plant': 4, 'first': 5, 'like': 6, 'dog': 7, 'second': 8, 'im': 9, 'fine': 10, 'third': 11, 'green': 12, 'thorn': 13, 'like dog': 14, 'cat': 15, 'bye': 16, '<PAD>': 0}\n"
     ]
    }
   ],
   "source": [
    "# print tokenizer vocab size\n",
    "print(\"tokenizer vocab size:\", len(tokenizer.word_index))\n",
    "print(tokenizer.word_index)"
   ]
  },
  {
   "cell_type": "code",
   "execution_count": 11,
   "metadata": {},
   "outputs": [
    {
     "name": "stdout",
     "output_type": "stream",
     "text": [
      "           Title                                        Abstract  \\\n",
      "0   first sample                         He likes dogs. So do I.   \n",
      "1  second sample                       Hi, how are you? I'm fine   \n",
      "2   third sample  Cactus is a plant. It is green. It has thorns.   \n",
      "\n",
      "         Keywords                                  input_tokens  \\\n",
      "0  likes dog, cat                    [first, sample, like, dog]   \n",
      "1         hi, bye                [second, sample, hi, im, fine]   \n",
      "2   cactus, plant  [third, sample, cactus, plant, green, thorn]   \n",
      "\n",
      "          clean_kp  \n",
      "0  [like dog, cat]  \n",
      "1        [hi, bye]  \n",
      "2  [cactus, plant]  \n"
     ]
    }
   ],
   "source": [
    "print(test_df)"
   ]
  },
  {
   "cell_type": "code",
   "execution_count": null,
   "metadata": {},
   "outputs": [],
   "source": []
  },
  {
   "cell_type": "code",
   "execution_count": 22,
   "metadata": {},
   "outputs": [
    {
     "name": "stdout",
     "output_type": "stream",
     "text": [
      "['likes dog, cat', 'hi, bye', 'cactus, plant']\n"
     ]
    }
   ],
   "source": [
    "kps = ['likes dog, cat', 'hi, bye', 'cactus, plant']\n",
    "print(kps)\n",
    "\n",
    "kp_tokens = []\n",
    "    for kp in kps:\n",
    "        kp_tokens.extend(kp.split())\n"
   ]
  },
  {
   "cell_type": "code",
   "execution_count": null,
   "metadata": {},
   "outputs": [],
   "source": []
  }
 ],
 "metadata": {
  "kernelspec": {
   "display_name": "venv-metal",
   "language": "python",
   "name": "python3"
  },
  "language_info": {
   "codemirror_mode": {
    "name": "ipython",
    "version": 3
   },
   "file_extension": ".py",
   "mimetype": "text/x-python",
   "name": "python",
   "nbconvert_exporter": "python",
   "pygments_lexer": "ipython3",
   "version": "3.11.3"
  }
 },
 "nbformat": 4,
 "nbformat_minor": 2
}
