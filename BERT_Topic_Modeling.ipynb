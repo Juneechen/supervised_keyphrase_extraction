{
  "cells": [
    {
      "cell_type": "code",
      "execution_count": 3,
      "metadata": {
        "colab": {
          "base_uri": "https://localhost:8080/",
          "height": 0
        },
        "id": "b27eddc3",
        "outputId": "81c65fda-116f-4f9b-934a-bc1dd800dcb1"
      },
      "outputs": [
        {
          "output_type": "stream",
          "name": "stdout",
          "text": [
            "Requirement already satisfied: transformers in /usr/local/lib/python3.10/dist-packages (4.35.2)\n",
            "Requirement already satisfied: torch in /usr/local/lib/python3.10/dist-packages (2.1.0+cu118)\n",
            "Collecting sklearn\n",
            "  Downloading sklearn-0.0.post12.tar.gz (2.6 kB)\n",
            "  \u001b[1;31merror\u001b[0m: \u001b[1msubprocess-exited-with-error\u001b[0m\n",
            "  \n",
            "  \u001b[31m×\u001b[0m \u001b[32mpython setup.py egg_info\u001b[0m did not run successfully.\n",
            "  \u001b[31m│\u001b[0m exit code: \u001b[1;36m1\u001b[0m\n",
            "  \u001b[31m╰─>\u001b[0m See above for output.\n",
            "  \n",
            "  \u001b[1;35mnote\u001b[0m: This error originates from a subprocess, and is likely not a problem with pip.\n",
            "  Preparing metadata (setup.py) ... \u001b[?25l\u001b[?25herror\n",
            "\u001b[1;31merror\u001b[0m: \u001b[1mmetadata-generation-failed\u001b[0m\n",
            "\n",
            "\u001b[31m×\u001b[0m Encountered error while generating package metadata.\n",
            "\u001b[31m╰─>\u001b[0m See above for output.\n",
            "\n",
            "\u001b[1;35mnote\u001b[0m: This is an issue with the package mentioned above, not pip.\n",
            "\u001b[1;36mhint\u001b[0m: See above for details.\n"
          ]
        }
      ],
      "source": [
        "\n",
        "!pip install transformers torch sklearn pandas"
      ],
      "id": "b27eddc3"
    },
    {
      "cell_type": "code",
      "execution_count": 5,
      "metadata": {
        "colab": {
          "base_uri": "https://localhost:8080/"
        },
        "id": "_Tk2emvQ_vs4",
        "outputId": "5935e2e0-268e-40ab-aca0-86708d578d67"
      },
      "outputs": [
        {
          "output_type": "stream",
          "name": "stdout",
          "text": [
            "Requirement already satisfied: nlpaug in /usr/local/lib/python3.10/dist-packages (1.1.11)\n",
            "Requirement already satisfied: numpy>=1.16.2 in /usr/local/lib/python3.10/dist-packages (from nlpaug) (1.23.5)\n",
            "Requirement already satisfied: pandas>=1.2.0 in /usr/local/lib/python3.10/dist-packages (from nlpaug) (1.5.3)\n",
            "Requirement already satisfied: requests>=2.22.0 in /usr/local/lib/python3.10/dist-packages (from nlpaug) (2.31.0)\n",
            "Requirement already satisfied: gdown>=4.0.0 in /usr/local/lib/python3.10/dist-packages (from nlpaug) (4.6.6)\n",
            "Requirement already satisfied: filelock in /usr/local/lib/python3.10/dist-packages (from gdown>=4.0.0->nlpaug) (3.13.1)\n",
            "Requirement already satisfied: six in /usr/local/lib/python3.10/dist-packages (from gdown>=4.0.0->nlpaug) (1.16.0)\n",
            "Requirement already satisfied: tqdm in /usr/local/lib/python3.10/dist-packages (from gdown>=4.0.0->nlpaug) (4.66.1)\n",
            "Requirement already satisfied: beautifulsoup4 in /usr/local/lib/python3.10/dist-packages (from gdown>=4.0.0->nlpaug) (4.11.2)\n",
            "Requirement already satisfied: python-dateutil>=2.8.1 in /usr/local/lib/python3.10/dist-packages (from pandas>=1.2.0->nlpaug) (2.8.2)\n",
            "Requirement already satisfied: pytz>=2020.1 in /usr/local/lib/python3.10/dist-packages (from pandas>=1.2.0->nlpaug) (2023.3.post1)\n",
            "Requirement already satisfied: charset-normalizer<4,>=2 in /usr/local/lib/python3.10/dist-packages (from requests>=2.22.0->nlpaug) (3.3.2)\n",
            "Requirement already satisfied: idna<4,>=2.5 in /usr/local/lib/python3.10/dist-packages (from requests>=2.22.0->nlpaug) (3.6)\n",
            "Requirement already satisfied: urllib3<3,>=1.21.1 in /usr/local/lib/python3.10/dist-packages (from requests>=2.22.0->nlpaug) (2.0.7)\n",
            "Requirement already satisfied: certifi>=2017.4.17 in /usr/local/lib/python3.10/dist-packages (from requests>=2.22.0->nlpaug) (2023.11.17)\n",
            "Requirement already satisfied: soupsieve>1.2 in /usr/local/lib/python3.10/dist-packages (from beautifulsoup4->gdown>=4.0.0->nlpaug) (2.5)\n",
            "Requirement already satisfied: PySocks!=1.5.7,>=1.5.6 in /usr/local/lib/python3.10/dist-packages (from requests>=2.22.0->nlpaug) (1.7.1)\n"
          ]
        }
      ],
      "source": [
        "!pip install nlpaug"
      ],
      "id": "_Tk2emvQ_vs4"
    },
    {
      "cell_type": "code",
      "source": [
        "!pip install ipython-autotime\n",
        "\n",
        "%load_ext autotime"
      ],
      "metadata": {
        "colab": {
          "base_uri": "https://localhost:8080/"
        },
        "id": "cwtK9-n91yZD",
        "outputId": "d720c4e5-a98b-4afd-9c38-07b970d577af"
      },
      "id": "cwtK9-n91yZD",
      "execution_count": 2,
      "outputs": [
        {
          "output_type": "stream",
          "name": "stdout",
          "text": [
            "Requirement already satisfied: ipython-autotime in /usr/local/lib/python3.10/dist-packages (0.3.2)\n",
            "Requirement already satisfied: ipython in /usr/local/lib/python3.10/dist-packages (from ipython-autotime) (7.34.0)\n",
            "Requirement already satisfied: setuptools>=18.5 in /usr/local/lib/python3.10/dist-packages (from ipython->ipython-autotime) (67.7.2)\n",
            "Requirement already satisfied: jedi>=0.16 in /usr/local/lib/python3.10/dist-packages (from ipython->ipython-autotime) (0.19.1)\n",
            "Requirement already satisfied: decorator in /usr/local/lib/python3.10/dist-packages (from ipython->ipython-autotime) (4.4.2)\n",
            "Requirement already satisfied: pickleshare in /usr/local/lib/python3.10/dist-packages (from ipython->ipython-autotime) (0.7.5)\n",
            "Requirement already satisfied: traitlets>=4.2 in /usr/local/lib/python3.10/dist-packages (from ipython->ipython-autotime) (5.7.1)\n",
            "Requirement already satisfied: prompt-toolkit!=3.0.0,!=3.0.1,<3.1.0,>=2.0.0 in /usr/local/lib/python3.10/dist-packages (from ipython->ipython-autotime) (3.0.41)\n",
            "Requirement already satisfied: pygments in /usr/local/lib/python3.10/dist-packages (from ipython->ipython-autotime) (2.16.1)\n",
            "Requirement already satisfied: backcall in /usr/local/lib/python3.10/dist-packages (from ipython->ipython-autotime) (0.2.0)\n",
            "Requirement already satisfied: matplotlib-inline in /usr/local/lib/python3.10/dist-packages (from ipython->ipython-autotime) (0.1.6)\n",
            "Requirement already satisfied: pexpect>4.3 in /usr/local/lib/python3.10/dist-packages (from ipython->ipython-autotime) (4.9.0)\n",
            "Requirement already satisfied: parso<0.9.0,>=0.8.3 in /usr/local/lib/python3.10/dist-packages (from jedi>=0.16->ipython->ipython-autotime) (0.8.3)\n",
            "Requirement already satisfied: ptyprocess>=0.5 in /usr/local/lib/python3.10/dist-packages (from pexpect>4.3->ipython->ipython-autotime) (0.7.0)\n",
            "Requirement already satisfied: wcwidth in /usr/local/lib/python3.10/dist-packages (from prompt-toolkit!=3.0.0,!=3.0.1,<3.1.0,>=2.0.0->ipython->ipython-autotime) (0.2.12)\n",
            "time: 317 µs (started: 2023-12-06 15:53:08 +00:00)\n"
          ]
        }
      ]
    },
    {
      "cell_type": "code",
      "source": [
        "from google.colab import drive\n",
        "drive.mount('/content/drive')"
      ],
      "metadata": {
        "colab": {
          "base_uri": "https://localhost:8080/"
        },
        "id": "fNPhM4djzdKK",
        "outputId": "85089910-5c27-4c38-baa5-164bf5b85f44"
      },
      "id": "fNPhM4djzdKK",
      "execution_count": 3,
      "outputs": [
        {
          "output_type": "stream",
          "name": "stdout",
          "text": [
            "Drive already mounted at /content/drive; to attempt to forcibly remount, call drive.mount(\"/content/drive\", force_remount=True).\n",
            "time: 810 ms (started: 2023-12-06 15:53:08 +00:00)\n"
          ]
        }
      ]
    },
    {
      "cell_type": "code",
      "source": [
        "!pip install tensorflow==2.14.0"
      ],
      "metadata": {
        "colab": {
          "base_uri": "https://localhost:8080/"
        },
        "id": "62hwyyek0a8s",
        "outputId": "adc2240e-2fed-4542-e17e-3141c9f08220"
      },
      "id": "62hwyyek0a8s",
      "execution_count": 4,
      "outputs": [
        {
          "output_type": "stream",
          "name": "stdout",
          "text": [
            "Requirement already satisfied: tensorflow==2.14.0 in /usr/local/lib/python3.10/dist-packages (2.14.0)\n",
            "Requirement already satisfied: absl-py>=1.0.0 in /usr/local/lib/python3.10/dist-packages (from tensorflow==2.14.0) (1.4.0)\n",
            "Requirement already satisfied: astunparse>=1.6.0 in /usr/local/lib/python3.10/dist-packages (from tensorflow==2.14.0) (1.6.3)\n",
            "Requirement already satisfied: flatbuffers>=23.5.26 in /usr/local/lib/python3.10/dist-packages (from tensorflow==2.14.0) (23.5.26)\n",
            "Requirement already satisfied: gast!=0.5.0,!=0.5.1,!=0.5.2,>=0.2.1 in /usr/local/lib/python3.10/dist-packages (from tensorflow==2.14.0) (0.4.0)\n",
            "Requirement already satisfied: google-pasta>=0.1.1 in /usr/local/lib/python3.10/dist-packages (from tensorflow==2.14.0) (0.2.0)\n",
            "Requirement already satisfied: h5py>=2.9.0 in /usr/local/lib/python3.10/dist-packages (from tensorflow==2.14.0) (3.9.0)\n",
            "Requirement already satisfied: libclang>=13.0.0 in /usr/local/lib/python3.10/dist-packages (from tensorflow==2.14.0) (16.0.6)\n",
            "Requirement already satisfied: ml-dtypes==0.2.0 in /usr/local/lib/python3.10/dist-packages (from tensorflow==2.14.0) (0.2.0)\n",
            "Requirement already satisfied: numpy>=1.23.5 in /usr/local/lib/python3.10/dist-packages (from tensorflow==2.14.0) (1.23.5)\n",
            "Requirement already satisfied: opt-einsum>=2.3.2 in /usr/local/lib/python3.10/dist-packages (from tensorflow==2.14.0) (3.3.0)\n",
            "Requirement already satisfied: packaging in /usr/local/lib/python3.10/dist-packages (from tensorflow==2.14.0) (23.2)\n",
            "Requirement already satisfied: protobuf!=4.21.0,!=4.21.1,!=4.21.2,!=4.21.3,!=4.21.4,!=4.21.5,<5.0.0dev,>=3.20.3 in /usr/local/lib/python3.10/dist-packages (from tensorflow==2.14.0) (3.20.3)\n",
            "Requirement already satisfied: setuptools in /usr/local/lib/python3.10/dist-packages (from tensorflow==2.14.0) (67.7.2)\n",
            "Requirement already satisfied: six>=1.12.0 in /usr/local/lib/python3.10/dist-packages (from tensorflow==2.14.0) (1.16.0)\n",
            "Requirement already satisfied: termcolor>=1.1.0 in /usr/local/lib/python3.10/dist-packages (from tensorflow==2.14.0) (2.3.0)\n",
            "Requirement already satisfied: typing-extensions>=3.6.6 in /usr/local/lib/python3.10/dist-packages (from tensorflow==2.14.0) (4.5.0)\n",
            "Requirement already satisfied: wrapt<1.15,>=1.11.0 in /usr/local/lib/python3.10/dist-packages (from tensorflow==2.14.0) (1.14.1)\n",
            "Requirement already satisfied: tensorflow-io-gcs-filesystem>=0.23.1 in /usr/local/lib/python3.10/dist-packages (from tensorflow==2.14.0) (0.34.0)\n",
            "Requirement already satisfied: grpcio<2.0,>=1.24.3 in /usr/local/lib/python3.10/dist-packages (from tensorflow==2.14.0) (1.59.3)\n",
            "Requirement already satisfied: tensorboard<2.15,>=2.14 in /usr/local/lib/python3.10/dist-packages (from tensorflow==2.14.0) (2.14.1)\n",
            "Requirement already satisfied: tensorflow-estimator<2.15,>=2.14.0 in /usr/local/lib/python3.10/dist-packages (from tensorflow==2.14.0) (2.14.0)\n",
            "Requirement already satisfied: keras<2.15,>=2.14.0 in /usr/local/lib/python3.10/dist-packages (from tensorflow==2.14.0) (2.14.0)\n",
            "Requirement already satisfied: wheel<1.0,>=0.23.0 in /usr/local/lib/python3.10/dist-packages (from astunparse>=1.6.0->tensorflow==2.14.0) (0.42.0)\n",
            "Requirement already satisfied: google-auth<3,>=1.6.3 in /usr/local/lib/python3.10/dist-packages (from tensorboard<2.15,>=2.14->tensorflow==2.14.0) (2.17.3)\n",
            "Requirement already satisfied: google-auth-oauthlib<1.1,>=0.5 in /usr/local/lib/python3.10/dist-packages (from tensorboard<2.15,>=2.14->tensorflow==2.14.0) (1.0.0)\n",
            "Requirement already satisfied: markdown>=2.6.8 in /usr/local/lib/python3.10/dist-packages (from tensorboard<2.15,>=2.14->tensorflow==2.14.0) (3.5.1)\n",
            "Requirement already satisfied: requests<3,>=2.21.0 in /usr/local/lib/python3.10/dist-packages (from tensorboard<2.15,>=2.14->tensorflow==2.14.0) (2.31.0)\n",
            "Requirement already satisfied: tensorboard-data-server<0.8.0,>=0.7.0 in /usr/local/lib/python3.10/dist-packages (from tensorboard<2.15,>=2.14->tensorflow==2.14.0) (0.7.2)\n",
            "Requirement already satisfied: werkzeug>=1.0.1 in /usr/local/lib/python3.10/dist-packages (from tensorboard<2.15,>=2.14->tensorflow==2.14.0) (3.0.1)\n",
            "Requirement already satisfied: cachetools<6.0,>=2.0.0 in /usr/local/lib/python3.10/dist-packages (from google-auth<3,>=1.6.3->tensorboard<2.15,>=2.14->tensorflow==2.14.0) (5.3.2)\n",
            "Requirement already satisfied: pyasn1-modules>=0.2.1 in /usr/local/lib/python3.10/dist-packages (from google-auth<3,>=1.6.3->tensorboard<2.15,>=2.14->tensorflow==2.14.0) (0.3.0)\n",
            "Requirement already satisfied: rsa<5,>=3.1.4 in /usr/local/lib/python3.10/dist-packages (from google-auth<3,>=1.6.3->tensorboard<2.15,>=2.14->tensorflow==2.14.0) (4.9)\n",
            "Requirement already satisfied: requests-oauthlib>=0.7.0 in /usr/local/lib/python3.10/dist-packages (from google-auth-oauthlib<1.1,>=0.5->tensorboard<2.15,>=2.14->tensorflow==2.14.0) (1.3.1)\n",
            "Requirement already satisfied: charset-normalizer<4,>=2 in /usr/local/lib/python3.10/dist-packages (from requests<3,>=2.21.0->tensorboard<2.15,>=2.14->tensorflow==2.14.0) (3.3.2)\n",
            "Requirement already satisfied: idna<4,>=2.5 in /usr/local/lib/python3.10/dist-packages (from requests<3,>=2.21.0->tensorboard<2.15,>=2.14->tensorflow==2.14.0) (3.6)\n",
            "Requirement already satisfied: urllib3<3,>=1.21.1 in /usr/local/lib/python3.10/dist-packages (from requests<3,>=2.21.0->tensorboard<2.15,>=2.14->tensorflow==2.14.0) (2.0.7)\n",
            "Requirement already satisfied: certifi>=2017.4.17 in /usr/local/lib/python3.10/dist-packages (from requests<3,>=2.21.0->tensorboard<2.15,>=2.14->tensorflow==2.14.0) (2023.11.17)\n",
            "Requirement already satisfied: MarkupSafe>=2.1.1 in /usr/local/lib/python3.10/dist-packages (from werkzeug>=1.0.1->tensorboard<2.15,>=2.14->tensorflow==2.14.0) (2.1.3)\n",
            "Requirement already satisfied: pyasn1<0.6.0,>=0.4.6 in /usr/local/lib/python3.10/dist-packages (from pyasn1-modules>=0.2.1->google-auth<3,>=1.6.3->tensorboard<2.15,>=2.14->tensorflow==2.14.0) (0.5.1)\n",
            "Requirement already satisfied: oauthlib>=3.0.0 in /usr/local/lib/python3.10/dist-packages (from requests-oauthlib>=0.7.0->google-auth-oauthlib<1.1,>=0.5->tensorboard<2.15,>=2.14->tensorflow==2.14.0) (3.2.2)\n",
            "time: 5.63 s (started: 2023-12-06 15:53:14 +00:00)\n"
          ]
        }
      ]
    },
    {
      "cell_type": "code",
      "execution_count": 5,
      "metadata": {
        "id": "54589fb3",
        "colab": {
          "base_uri": "https://localhost:8080/"
        },
        "outputId": "9ea6ad0f-791c-430a-f95d-77530f687bf6"
      },
      "outputs": [
        {
          "output_type": "stream",
          "name": "stdout",
          "text": [
            "time: 6.77 s (started: 2023-12-06 15:53:22 +00:00)\n"
          ]
        }
      ],
      "source": [
        "# Import libraries\n",
        "import transformers\n",
        "import os\n",
        "import nlpaug.augmenter.word as naw\n",
        "from transformers import BertTokenizer, BertForSequenceClassification\n",
        "import torch\n",
        "import pickle\n",
        "from torch.utils.data import DataLoader, RandomSampler, SequentialSampler, TensorDataset, random_split\n",
        "import pandas as pd\n",
        "import numpy as np\n",
        "from sklearn.model_selection import train_test_split\n",
        "from sklearn.metrics import classification_report\n",
        "from sklearn.preprocessing import LabelEncoder\n",
        "import torch.nn as nn\n",
        "from torch.nn import functional\n",
        "from transformers import AdamW"
      ],
      "id": "54589fb3"
    },
    {
      "cell_type": "code",
      "execution_count": 6,
      "metadata": {
        "id": "bb088bea",
        "colab": {
          "base_uri": "https://localhost:8080/"
        },
        "outputId": "b0952001-620a-4325-c64b-7396674ea35a"
      },
      "outputs": [
        {
          "output_type": "stream",
          "name": "stdout",
          "text": [
            "time: 6.74 s (started: 2023-12-06 15:53:35 +00:00)\n"
          ]
        }
      ],
      "source": [
        "# Load and preprocess dataset\n",
        "try:\n",
        "    dataset = pd.read_csv('/content/train_title_abstract_keywords.csv', encoding='utf-8')\n",
        "except UnicodeDecodeError:\n",
        "    dataset = pd.read_csv('/content/train_title_abstract_keywords.csv', encoding='latin1')\n",
        "# Combining title, subtitle, and abstract\n",
        "X = dataset[['Title', 'Subtitle', 'Abstract']].fillna('').agg(' '.join, axis=1)\n",
        "y = dataset['Keywords']"
      ],
      "id": "bb088bea"
    },
    {
      "cell_type": "code",
      "execution_count": null,
      "metadata": {
        "colab": {
          "base_uri": "https://localhost:8080/",
          "height": 508
        },
        "id": "oyBNWuyfkTe5",
        "outputId": "56d315fd-27fe-4b83-c61b-3d056d9a8726"
      },
      "outputs": [
        {
          "data": {
            "image/png": "[encoded data removed]",
            "text/plain": [
              "<Figure size 1200x600 with 3 Axes>"
            ]
          },
          "metadata": {},
          "output_type": "display_data"
        }
      ],
      "source": [
        "#VISUALIZE DATA\n",
        "import matplotlib.pyplot as plt\n",
        "import seaborn as sns\n",
        "\n",
        "dataset['Title'] = dataset['Title'].fillna('')\n",
        "dataset['Subtitle'] = dataset['Subtitle'].fillna('')\n",
        "dataset['Abstract'] = dataset['Abstract'].fillna('')\n",
        "\n",
        "# Calculating lengths\n",
        "dataset['Title Length'] = dataset['Title'].apply(len)\n",
        "dataset['Subtitle Length'] = dataset['Subtitle'].apply(len)\n",
        "dataset['Abstract Length'] = dataset['Abstract'].apply(len)\n",
        "\n",
        "# Plotting\n",
        "plt.figure(figsize=(12, 6))\n",
        "\n",
        "# Title Length Distribution\n",
        "plt.subplot(1, 3, 1)\n",
        "sns.histplot(dataset['Title Length'], bins=30, kde=True)\n",
        "plt.title('Title Length Distribution')\n",
        "\n",
        "# Subtitle Length Distribution\n",
        "plt.subplot(1, 3, 2)\n",
        "sns.histplot(dataset['Subtitle Length'], bins=30, kde=True)\n",
        "plt.title('Subtitle Length Distribution')\n",
        "\n",
        "# Abstract Length Distribution\n",
        "plt.subplot(1, 3, 3)\n",
        "sns.histplot(dataset['Abstract Length'], bins=30, kde=True)\n",
        "plt.title('Abstract Length Distribution')\n",
        "\n",
        "plt.tight_layout()\n",
        "plt.show()"
      ],
      "id": "oyBNWuyfkTe5"
    },
    {
      "cell_type": "code",
      "execution_count": 7,
      "metadata": {
        "colab": {
          "base_uri": "https://localhost:8080/"
        },
        "id": "Ct4w0lh2kWb0",
        "outputId": "d3374a82-07cf-40b8-9b65-46a95e65a529"
      },
      "outputs": [
        {
          "output_type": "stream",
          "name": "stdout",
          "text": [
            "time: 243 ms (started: 2023-12-06 15:53:44 +00:00)\n"
          ]
        }
      ],
      "source": [
        "#BERT MODEL_1\n",
        "tokenizer_bert_base = BertTokenizer.from_pretrained('bert-base-uncased')"
      ],
      "id": "Ct4w0lh2kWb0"
    },
    {
      "cell_type": "code",
      "execution_count": 8,
      "metadata": {
        "colab": {
          "base_uri": "https://localhost:8080/"
        },
        "id": "5206352b",
        "outputId": "2700d7da-371b-4ae4-e6fe-fbaae2bf5ea9"
      },
      "outputs": [
        {
          "output_type": "execute_result",
          "data": {
            "text/plain": [
              "['achieved',\n",
              " 'reinforcements',\n",
              " 'visits',\n",
              " '##tri',\n",
              " 'scully',\n",
              " 'ramsay',\n",
              " 'verification',\n",
              " 'guarded',\n",
              " 'ascent',\n",
              " 'sigma',\n",
              " '[unused735]',\n",
              " 'deluxe',\n",
              " 'צ',\n",
              " 'combat',\n",
              " 'linking',\n",
              " 'plenty',\n",
              " '—',\n",
              " 'minerals',\n",
              " 'boyd',\n",
              " 'graduate']"
            ]
          },
          "metadata": {},
          "execution_count": 8
        },
        {
          "output_type": "stream",
          "name": "stdout",
          "text": [
            "time: 5.89 ms (started: 2023-12-06 15:53:49 +00:00)\n"
          ]
        }
      ],
      "source": [
        "#TOKENIZER RESULTS - BERT BASE\n",
        "import random\n",
        "vocab_list = list(tokenizer_bert_base.vocab.keys())\n",
        "random.sample(vocab_list, 20)"
      ],
      "id": "5206352b"
    },
    {
      "cell_type": "code",
      "execution_count": 9,
      "metadata": {
        "id": "dXreGNHsESpJ",
        "colab": {
          "base_uri": "https://localhost:8080/"
        },
        "outputId": "6419ccb2-184f-41da-e05d-20af2ecf36c4"
      },
      "outputs": [
        {
          "output_type": "stream",
          "name": "stdout",
          "text": [
            "time: 474 ms (started: 2023-12-06 15:53:52 +00:00)\n"
          ]
        }
      ],
      "source": [
        "label_encoder = LabelEncoder()\n",
        "y_encoded = label_encoder.fit_transform(y)\n",
        "labels = torch.tensor(y_encoded)"
      ],
      "id": "dXreGNHsESpJ"
    },
    {
      "cell_type": "code",
      "execution_count": 10,
      "metadata": {
        "id": "3df1cfa2",
        "colab": {
          "base_uri": "https://localhost:8080/"
        },
        "outputId": "07060749-a0db-4695-fd2b-f10f9ba92fd0"
      },
      "outputs": [
        {
          "output_type": "stream",
          "name": "stdout",
          "text": [
            "time: 2.97 s (started: 2023-12-06 15:53:54 +00:00)\n"
          ]
        }
      ],
      "source": [
        "# Data Preparation for BERT\n",
        "\n",
        "tokenized_data_path = \"/content/tokenized_data.pkl\"\n",
        "\n",
        "if os.path.exists(tokenized_data_path):\n",
        "    with open(tokenized_data_path, 'rb') as file:\n",
        "        tokenized_data = pickle.load(file)\n",
        "    input_ids, attention_masks = tokenized_data\n",
        "else:\n",
        "    input_ids = []\n",
        "    attention_masks = []\n",
        "\n",
        "    for text in X:\n",
        "        encoded_dict = tokenizer_bert_base.encode_plus(\n",
        "                            text,\n",
        "                            add_special_tokens=True,\n",
        "                            max_length=64,\n",
        "                            truncation=True,\n",
        "                            padding='max_length',\n",
        "                            return_attention_mask=True,\n",
        "                            return_tensors='pt',\n",
        "                       )\n",
        "        input_ids.append(encoded_dict['input_ids'][0])\n",
        "        attention_masks.append(encoded_dict['attention_mask'][0])\n",
        "\n",
        "    input_ids = torch.stack(input_ids)\n",
        "    attention_masks = torch.stack(attention_masks)\n",
        "\n",
        "    # Save the tokenized data\n",
        "    tokenized_data = (input_ids, attention_masks)\n",
        "    with open(tokenized_data_path, 'wb') as file:\n",
        "        pickle.dump(tokenized_data, file)\n"
      ],
      "id": "3df1cfa2"
    },
    {
      "cell_type": "code",
      "execution_count": 11,
      "metadata": {
        "colab": {
          "base_uri": "https://localhost:8080/"
        },
        "id": "k_l8pzmH1Rg2",
        "outputId": "0b13adcf-dd12-4be5-b724-86f02ce112ad"
      },
      "outputs": [
        {
          "output_type": "stream",
          "name": "stdout",
          "text": [
            "Length of input_ids: 148928\n",
            "Length of attention_masks: 148928\n",
            "Length of labels: 148928\n",
            "Min label: 0\n",
            "Max label: 145899\n",
            "time: 30.4 ms (started: 2023-12-06 15:53:57 +00:00)\n"
          ]
        }
      ],
      "source": [
        "print(f\"Length of input_ids: {input_ids.size(0)}\")\n",
        "print(f\"Length of attention_masks: {attention_masks.size(0)}\")\n",
        "print(f\"Length of labels: {labels.size(0)}\")\n",
        "\n",
        "unique_labels = torch.unique(labels)\n",
        "print(\"Min label:\", torch.min(labels).item())\n",
        "print(\"Max label:\", torch.max(labels).item())\n"
      ],
      "id": "k_l8pzmH1Rg2"
    },
    {
      "cell_type": "code",
      "execution_count": null,
      "metadata": {
        "colab": {
          "base_uri": "https://localhost:8080/",
          "height": 301,
          "referenced_widgets": [
            "2333357df6734e0ab85e08e50754e5e6",
            "7e1672b6326e4ae89a68a45a3aa9496b",
            "5353352a320c419c8407c4c10bb33359",
            "8db8c2cb326847c5b8c60c180cef2c33",
            "2a984bb96cd245a8878212dfc1ca442c",
            "3dcca9fe3da0491c8e9ba50c38929cf2",
            "7e45b5cbd44f4414b7c8455308e6e28c",
            "7613fb2cb58042ed9e5e66a7891cdd95",
            "2d7262519c9c4aa98647dd98e14b4597",
            "d53b35ac66824772a5b4b975bdf0c2e9",
            "cfd7f4e865004f07971d074f79fc1e34"
          ]
        },
        "id": "6c26da19",
        "outputId": "e8acb258-7f71-4d4a-94b3-83c0e9d9cde1"
      },
      "outputs": [
        {
          "data": {
            "application/vnd.jupyter.widget-view+json": {
              "model_id": "2333357df6734e0ab85e08e50754e5e6",
              "version_major": 2,
              "version_minor": 0
            },
            "text/plain": [
              "model.safetensors:   0%|          | 0.00/440M [00:00<?, ?B/s]"
            ]
          },
          "metadata": {},
          "output_type": "display_data"
        },
        {
          "name": "stderr",
          "output_type": "stream",
          "text": [
            "Some weights of BertForSequenceClassification were not initialized from the model checkpoint at bert-base-uncased and are newly initialized: ['classifier.weight', 'classifier.bias']\n",
            "You should probably TRAIN this model on a down-stream task to be able to use it for predictions and inference.\n",
            "/usr/local/lib/python3.10/dist-packages/transformers/optimization.py:411: FutureWarning: This implementation of AdamW is deprecated and will be removed in a future version. Use the PyTorch implementation torch.optim.AdamW instead, or set `no_deprecation_warning=True` to disable this warning\n",
            "  warnings.warn(\n"
          ]
        },
        {
          "name": "stdout",
          "output_type": "stream",
          "text": [
            "Epoch 1/3\n",
            "Training loss: 11.901959293254848\n",
            "Validation loss: 12.13157661585337\n",
            "Epoch 2/3\n",
            "Training loss: 11.86732724555453\n",
            "Validation loss: 12.359702515499785\n",
            "Epoch 3/3\n",
            "Training loss: 11.780753452206785\n",
            "Validation loss: 13.291357887660997\n"
          ]
        }
      ],
      "source": [
        "#TRAIN BERT_BASE MODEL - 1\n",
        "bert_base = BertForSequenceClassification.from_pretrained('bert-base-uncased', num_labels=len(unique_labels))\n",
        "\n",
        "device = torch.device(\"cuda\" if torch.cuda.is_available() else \"cpu\")\n",
        "bert_base.to(device)\n",
        "\n",
        "# Optimizer\n",
        "optimizer = AdamW(bert_base.parameters(), lr=2e-5, eps=1e-8)\n",
        "\n",
        "# Loss function\n",
        "criterion = torch.nn.CrossEntropyLoss()\n",
        "dataset = TensorDataset(input_ids, attention_masks, labels)\n",
        "\n",
        "# Splitting data into train and validation sets\n",
        "train_size = int(0.8 * len(dataset))\n",
        "val_size = len(dataset) - train_size\n",
        "train_dataset, val_dataset = random_split(dataset, [train_size, val_size])\n",
        "\n",
        "train_dataloader = DataLoader(train_dataset, sampler=RandomSampler(train_dataset), batch_size=128)\n",
        "validation_dataloader = DataLoader(val_dataset, sampler=SequentialSampler(val_dataset), batch_size=128)\n",
        "\n",
        "# Training Loop\n",
        "epochs = 3\n",
        "for epoch in range(epochs):\n",
        "    # Training phase\n",
        "    bert_base.train()\n",
        "    total_train_loss = 0\n",
        "    for batch in train_dataloader:\n",
        "        b_input_ids, b_input_mask, b_labels = batch\n",
        "        b_input_ids = b_input_ids.to(device)\n",
        "        b_input_mask = b_input_mask.to(device)\n",
        "        b_labels = b_labels.to(device)\n",
        "        bert_base.zero_grad()\n",
        "\n",
        "        # Forward pass\n",
        "        outputs = bert_base(b_input_ids, token_type_ids=None, attention_mask=b_input_mask, labels=b_labels)\n",
        "        loss = outputs[0]\n",
        "        total_train_loss += loss.item()\n",
        "\n",
        "        # Backward pass\n",
        "        loss.backward()\n",
        "\n",
        "        optimizer.step()\n",
        "\n",
        "    avg_train_loss = total_train_loss / len(train_dataloader)\n",
        "\n",
        "    # Validation phase\n",
        "    bert_base.eval()\n",
        "    total_eval_accuracy = 0\n",
        "    total_eval_loss = 0\n",
        "    for batch in validation_dataloader:\n",
        "        b_input_ids, b_input_mask, b_labels = batch\n",
        "        b_input_ids = b_input_ids.to(device)\n",
        "        b_input_mask = b_input_mask.to(device)\n",
        "        b_labels = b_labels.to(device)\n",
        "\n",
        "        with torch.no_grad():\n",
        "            outputs = bert_base(b_input_ids, token_type_ids=None, attention_mask=b_input_mask, labels=b_labels)\n",
        "\n",
        "        loss = outputs[0]\n",
        "        total_eval_loss += loss.item()\n",
        "\n",
        "    #Average validation loss over the epoch\n",
        "    avg_val_loss = total_eval_loss / len(validation_dataloader)\n",
        "\n",
        "    print(f'Epoch {epoch + 1}/{epochs}')\n",
        "    print(f'Training loss: {avg_train_loss}')\n",
        "    print(f'Validation loss: {avg_val_loss}')\n",
        "\n"
      ],
      "id": "6c26da19"
    },
    {
      "cell_type": "code",
      "execution_count": null,
      "metadata": {
        "id": "b4926856"
      },
      "outputs": [],
      "source": [
        "# Saving the Model\n",
        "model_directory = \"/content/bert_base_uncased\"\n",
        "if not os.path.exists(model_directory):\n",
        "    os.makedirs(model_directory)\n",
        "\n",
        "bert_base.save_pretrained(model_directory)"
      ],
      "id": "b4926856"
    },
    {
      "cell_type": "code",
      "execution_count": null,
      "metadata": {
        "colab": {
          "base_uri": "https://localhost:8080/",
          "height": 178
        },
        "id": "N2m342MQ_viL",
        "outputId": "21f6650a-771b-41ae-f392-07eac39ce21f"
      },
      "outputs": [
        {
          "data": {
            "application/vnd.google.colaboratory.intrinsic+json": {
              "type": "string"
            },
            "text/plain": [
              "'import nlpaug.augmenter.word as naw\\n\\ntrain_dataset_path = \\'/content/train_title_abstract_keywords.csv\\'\\ntry:\\n    train_dataset = pd.read_csv(\\'/content/train_title_abstract_keywords.csv\\', encoding=\\'utf-8\\')\\nexcept UnicodeDecodeError:\\n    train_dataset = pd.read_csv(\\'/content/train_title_abstract_keywords.csv\\', encoding=\\'latin1\\')\\n\\nX = dataset[[\\'Title\\', \\'Abstract\\']].fillna(\\'\\').agg(\\' \\'.join, axis=1)\\ny = dataset[\\'Keywords\\']\\n\\n# text augmentation\\ndef augment_text(title, abstract):\\n    aug = naw.SynonymAug(aug_src=\\'wordnet\\')\\n    augmented_title = aug.augment(title)\\n    augmented_abstract = aug.augment(abstract)\\n    augmented_text = f\"{augmented_title} {augmented_abstract}\"\\n    return augmented_text\\n\\naugmented_texts = [augment_text(title, abstract) for title, abstract in zip(dataset[\\'Title\\'], dataset[\\'Abstract\\'])]\\n\\ndataset[\\'augmented_text\\'] = augmented_texts\\n\\naugmented_dataset_path = \\'/content/augmented_title_abstract_keywords.csv\\'\\ndataset.to_csv(augmented_dataset_path, index=False)'"
            ]
          },
          "execution_count": 18,
          "metadata": {},
          "output_type": "execute_result"
        }
      ],
      "source": [
        "'''import nlpaug.augmenter.word as naw\n",
        "\n",
        "train_dataset_path = '/content/train_title_abstract_keywords.csv'\n",
        "try:\n",
        "    train_dataset = pd.read_csv('/content/train_title_abstract_keywords.csv', encoding='utf-8')\n",
        "except UnicodeDecodeError:\n",
        "    train_dataset = pd.read_csv('/content/train_title_abstract_keywords.csv', encoding='latin1')\n",
        "\n",
        "X = dataset[['Title', 'Abstract']].fillna('').agg(' '.join, axis=1)\n",
        "y = dataset['Keywords']\n",
        "\n",
        "# text augmentation\n",
        "def augment_text(title, abstract):\n",
        "    aug = naw.SynonymAug(aug_src='wordnet')\n",
        "    augmented_title = aug.augment(title)\n",
        "    augmented_abstract = aug.augment(abstract)\n",
        "    augmented_text = f\"{augmented_title} {augmented_abstract}\"\n",
        "    return augmented_text\n",
        "\n",
        "augmented_texts = [augment_text(title, abstract) for title, abstract in zip(dataset['Title'], dataset['Abstract'])]\n",
        "\n",
        "dataset['augmented_text'] = augmented_texts\n",
        "\n",
        "augmented_dataset_path = '/content/augmented_title_abstract_keywords.csv'\n",
        "dataset.to_csv(augmented_dataset_path, index=False)'''\n"
      ],
      "id": "N2m342MQ_viL"
    },
    {
      "cell_type": "code",
      "execution_count": 18,
      "metadata": {
        "colab": {
          "base_uri": "https://localhost:8080/",
          "height": 0
        },
        "id": "3WGCoGokCDqv",
        "outputId": "969a173f-058d-4f6f-df57-5fca37bb0ec6"
      },
      "outputs": [
        {
          "output_type": "stream",
          "name": "stderr",
          "text": [
            "Some weights of BertWithDropout were not initialized from the model checkpoint at bert-base-uncased and are newly initialized: ['classifier.weight', 'classifier.bias']\n",
            "You should probably TRAIN this model on a down-stream task to be able to use it for predictions and inference.\n"
          ]
        },
        {
          "output_type": "stream",
          "name": "stdout",
          "text": [
            "Epoch 1/3\n",
            "Training loss: 11.898122571336724\n",
            "Validation loss: 11.817414422915217\n",
            "Epoch 2/3\n",
            "Training loss: 11.866688921935577\n",
            "Validation loss: 12.220642797936698\n",
            "Epoch 3/3\n",
            "Training loss: 11.777811996918873\n",
            "Validation loss: 13.164944321300851\n"
          ]
        }
      ],
      "source": [
        "#ADD DROPOUT LAYERS\n",
        "\n",
        "class BertWithDropout(BertForSequenceClassification):\n",
        "    def __init__(self, config):\n",
        "        super().__init__(config)\n",
        "        self.dropout = nn.Dropout(0.1)\n",
        "\n",
        "    def forward(self, input_ids, attention_mask=None, token_type_ids=None, position_ids=None, head_mask=None,\n",
        "                labels=None):\n",
        "        outputs = self.bert(input_ids, attention_mask=attention_mask, token_type_ids=token_type_ids,\n",
        "                            position_ids=position_ids, head_mask=head_mask)\n",
        "\n",
        "        pooled_output = outputs.pooler_output\n",
        "        pooled_output = self.dropout(pooled_output)\n",
        "\n",
        "        logits = self.classifier(pooled_output)\n",
        "\n",
        "        outputs = (logits,) + outputs[2:]\n",
        "\n",
        "        if labels is not None:\n",
        "            loss_fct = nn.CrossEntropyLoss()\n",
        "            loss = loss_fct(logits.view(-1, self.num_labels), labels.view(-1))\n",
        "            outputs = (loss,) + outputs\n",
        "\n",
        "        return outputs\n",
        "\n",
        "# Initialize BERT model with dropout\n",
        "bert_base_dropout = BertWithDropout.from_pretrained('bert-base-uncased', num_labels=len(unique_labels))\n",
        "bert_base_dropout.to(device)\n",
        "\n",
        "# Optimizer\n",
        "optimizer = AdamW(bert_base_dropout.parameters(), lr=2e-5, eps=1e-8)\n",
        "\n",
        "# Loss function\n",
        "criterion = torch.nn.CrossEntropyLoss()\n",
        "\n",
        "# Training Loop\n",
        "epochs = 3\n",
        "for epoch in range(epochs):\n",
        "    # Training phase\n",
        "    bert_base_dropout.train()\n",
        "    total_train_loss = 0\n",
        "    for batch in train_dataloader:\n",
        "        b_input_ids, b_input_mask, b_labels = batch\n",
        "        b_input_ids = b_input_ids.to(device)\n",
        "        b_input_mask = b_input_mask.to(device)\n",
        "        b_labels = b_labels.to(device)\n",
        "        bert_base_dropout.zero_grad()\n",
        "\n",
        "        # Forward pass\n",
        "        outputs = bert_base_dropout(b_input_ids, token_type_ids=None, attention_mask=b_input_mask, labels=b_labels)\n",
        "        loss = outputs[0]\n",
        "        total_train_loss += loss.item()\n",
        "\n",
        "        # Backward pass\n",
        "        loss.backward()\n",
        "\n",
        "        optimizer.step()\n",
        "\n",
        "    avg_train_loss = total_train_loss / len(train_dataloader)\n",
        "\n",
        "    # Validation phase\n",
        "    bert_base_dropout.eval()\n",
        "    total_eval_loss = 0\n",
        "    for batch in validation_dataloader:\n",
        "        b_input_ids, b_input_mask, b_labels = batch\n",
        "        b_input_ids = b_input_ids.to(device)\n",
        "        b_input_mask = b_input_mask.to(device)\n",
        "        b_labels = b_labels.to(device)\n",
        "\n",
        "        with torch.no_grad():\n",
        "            outputs = bert_base_dropout(b_input_ids, token_type_ids=None, attention_mask=b_input_mask, labels=b_labels)\n",
        "\n",
        "        loss = outputs[0]\n",
        "        total_eval_loss += loss.item()\n",
        "\n",
        "    # Average validation loss over the epoch\n",
        "    avg_val_loss = total_eval_loss / len(validation_dataloader)\n",
        "\n",
        "    print(f'Epoch {epoch + 1}/{epochs}')\n",
        "    print(f'Training loss: {avg_train_loss}')\n",
        "    print(f'Validation loss: {avg_val_loss}')\n"
      ],
      "id": "3WGCoGokCDqv"
    },
    {
      "cell_type": "code",
      "source": [
        "model_directory = \"/content/drive/bert_base_uncased_dropout\"\n",
        "if not os.path.exists(model_directory):\n",
        "    os.makedirs(model_directory)\n",
        "\n",
        "bert_base_dropout.save_pretrained(model_directory)"
      ],
      "metadata": {
        "id": "03DHH6ESKfqn"
      },
      "id": "03DHH6ESKfqn",
      "execution_count": null,
      "outputs": []
    },
    {
      "cell_type": "code",
      "source": [
        "torch.cuda.empty_cache()"
      ],
      "metadata": {
        "id": "WcLQA3SIy81M"
      },
      "id": "WcLQA3SIy81M",
      "execution_count": 12,
      "outputs": []
    },
    {
      "cell_type": "code",
      "source": [
        "#BERT MODEL - 3\n",
        "from transformers import get_linear_schedule_with_warmup\n",
        "\n",
        "device = torch.device(\"cuda\" if torch.cuda.is_available() else \"cpu\")\n",
        "dataset = TensorDataset(input_ids, attention_masks, labels)\n",
        "epochs = 2\n",
        "# Splitting data into train and validation sets\n",
        "train_size = int(0.7 * len(dataset))\n",
        "val_size = len(dataset) - train_size\n",
        "train_dataset, val_dataset = random_split(dataset, [train_size, val_size])\n",
        "\n",
        "train_dataloader = DataLoader(train_dataset, sampler=RandomSampler(train_dataset), batch_size=128)\n",
        "validation_dataloader = DataLoader(val_dataset, sampler=SequentialSampler(val_dataset), batch_size=128)\n",
        "\n",
        "\n",
        "class BertWithDropoutAndExtraLayers(BertForSequenceClassification):\n",
        "    def __init__(self, config):\n",
        "        super().__init__(config)\n",
        "        self.dropout = nn.Dropout(0.2)\n",
        "        self.additional_fc = nn.Linear(config.hidden_size, config.hidden_size)\n",
        "        self.relu = nn.ReLU()\n",
        "\n",
        "    def forward(self, input_ids, attention_mask=None, token_type_ids=None, position_ids=None, head_mask=None, labels=None):\n",
        "        outputs = self.bert(input_ids, attention_mask=attention_mask, token_type_ids=token_type_ids, position_ids=position_ids, head_mask=head_mask)\n",
        "        pooled_output = outputs.pooler_output\n",
        "        pooled_output = self.dropout(pooled_output)\n",
        "        pooled_output = self.additional_fc(pooled_output)\n",
        "        pooled_output = self.relu(pooled_output)\n",
        "        logits = self.classifier(pooled_output)\n",
        "        outputs = (logits,) + outputs[2:]\n",
        "\n",
        "        if labels is not None:\n",
        "            loss_fct = nn.CrossEntropyLoss()\n",
        "            loss = loss_fct(logits.view(-1, self.num_labels), labels.view(-1))\n",
        "            outputs = (loss,) + outputs\n",
        "\n",
        "        return outputs\n",
        "\n",
        "# Initialize the model\n",
        "bert_model = BertWithDropoutAndExtraLayers.from_pretrained('bert-base-uncased', num_labels=len(unique_labels))\n",
        "bert_model.to(device)\n",
        "\n",
        "# Optimizer with weight decay\n",
        "optimizer = AdamW(bert_model.parameters(), lr=3e-5, eps=1e-8, weight_decay=0.01)\n",
        "\n",
        "# Total number of training steps\n",
        "total_steps = len(train_dataloader) * epochs\n",
        "\n",
        "# Learning rate scheduler\n",
        "scheduler = get_linear_schedule_with_warmup(optimizer, num_warmup_steps=0, num_training_steps=total_steps)\n",
        "\n",
        "# Training Loop with early stopping\n",
        "best_val_loss = float('inf')\n",
        "for epoch in range(epochs):\n",
        "    bert_model.train()\n",
        "    total_train_loss = 0\n",
        "\n",
        "    for batch in train_dataloader:\n",
        "        b_input_ids, b_input_mask, b_labels = batch\n",
        "        b_input_ids = b_input_ids.to(device)\n",
        "        b_input_mask = b_input_mask.to(device)\n",
        "        b_labels = b_labels.to(device)\n",
        "        bert_model.zero_grad()\n",
        "\n",
        "        # Forward pass\n",
        "        outputs = bert_model(b_input_ids, token_type_ids=None, attention_mask=b_input_mask, labels=b_labels)\n",
        "        loss = outputs[0]\n",
        "        total_train_loss += loss.item()\n",
        "\n",
        "        # Backward pass\n",
        "        loss.backward()\n",
        "\n",
        "        optimizer.step()\n",
        "\n",
        "    avg_train_loss = total_train_loss / len(train_dataloader)\n",
        "    print(f'Epoch {epoch + 1}/{epochs}, Training loss: {avg_train_loss}')\n",
        "\n",
        "    # Validation phase\n",
        "    bert_model.eval()\n",
        "    total_eval_loss = 0\n",
        "\n",
        "    for batch in validation_dataloader:\n",
        "        b_input_ids, b_input_mask, b_labels = batch\n",
        "        b_input_ids = b_input_ids.to(device)\n",
        "        b_input_mask = b_input_mask.to(device)\n",
        "        b_labels = b_labels.to(device)\n",
        "\n",
        "        with torch.no_grad():\n",
        "            outputs = bert_model(b_input_ids, token_type_ids=None, attention_mask=b_input_mask, labels=b_labels)\n",
        "\n",
        "        loss = outputs[0]\n",
        "        total_eval_loss += loss.item()\n",
        "\n",
        "    # Average validation loss over the epoch\n",
        "    avg_val_loss = total_eval_loss / len(validation_dataloader)\n",
        "\n",
        "    print(f'Epoch {epoch + 1}/{epochs}')\n",
        "    print(f'Training loss: {avg_train_loss}')\n",
        "    print(f'Validation loss: {avg_val_loss}')\n",
        "\n",
        "    # Early stopping\n",
        "    if avg_val_loss < best_val_loss:\n",
        "        best_val_loss = avg_val_loss\n",
        "    else:\n",
        "        print(\"No improvement in validation loss, stopping training.\")\n",
        "        break\n",
        "\n",
        "    scheduler.step()\n"
      ],
      "metadata": {
        "colab": {
          "base_uri": "https://localhost:8080/"
        },
        "id": "9QCiU8nRPtuC",
        "outputId": "3ad14f01-a625-4fb9-8e16-b1c3a304616e"
      },
      "id": "9QCiU8nRPtuC",
      "execution_count": null,
      "outputs": [
        {
          "metadata": {
            "tags": null
          },
          "name": "stderr",
          "output_type": "stream",
          "text": [
            "Some weights of BertWithDropoutAndExtraLayers were not initialized from the model checkpoint at bert-base-uncased and are newly initialized: ['additional_fc.weight', 'additional_fc.bias', 'classifier.bias', 'classifier.weight']\n",
            "You should probably TRAIN this model on a down-stream task to be able to use it for predictions and inference.\n",
            "/usr/local/lib/python3.10/dist-packages/transformers/optimization.py:411: FutureWarning: This implementation of AdamW is deprecated and will be removed in a future version. Use the PyTorch implementation torch.optim.AdamW instead, or set `no_deprecation_warning=True` to disable this warning\n",
            "  warnings.warn(\n"
          ]
        }
      ]
    },
    {
      "cell_type": "code",
      "source": [
        "model_directory = \"/content/drive/bert_base_extra_layers\"\n",
        "if not os.path.exists(model_directory):\n",
        "    os.makedirs(model_directory)\n",
        "\n",
        "bert_model.save_pretrained(model_directory)"
      ],
      "metadata": {
        "id": "hqU0KMppwq3N"
      },
      "id": "hqU0KMppwq3N",
      "execution_count": 19,
      "outputs": []
    },
    {
      "cell_type": "code",
      "execution_count": null,
      "metadata": {
        "id": "GsA27Udb4YDO"
      },
      "outputs": [],
      "source": [
        "#BERT_MODEL_4 -'scibert_scivocab_uncased'\n",
        "tokenizer_scibert = BertTokenizer.from_pretrained('allenai/scibert_scivocab_uncased')\n",
        "scibert = BertForSequenceClassification.from_pretrained('allenai/scibert_scivocab_uncased', num_labels=len(unique_labels))"
      ],
      "id": "GsA27Udb4YDO"
    },
    {
      "cell_type": "code",
      "execution_count": null,
      "metadata": {
        "id": "jBKgPryt5ARo"
      },
      "outputs": [],
      "source": [
        "# Data Preparation for SCIBERT\n",
        "tokenized_data_path = \"/content/scibert_tokenized_data.pkl\"\n",
        "\n",
        "if os.path.exists(tokenized_data_path):\n",
        "    with open(tokenized_data_path, 'rb') as file:\n",
        "        tokenized_data = pickle.load(file)\n",
        "    input_ids, attention_masks = tokenized_data\n",
        "else:\n",
        "    input_ids = []\n",
        "    attention_masks = []\n",
        "\n",
        "    for text in X:\n",
        "        encoded_dict = tokenizer_scibert.encode_plus(\n",
        "                            text,\n",
        "                            add_special_tokens=True,\n",
        "                            max_length=64,\n",
        "                            truncation=True,\n",
        "                            padding='max_length',\n",
        "                            return_attention_mask=True,\n",
        "                            return_tensors='pt',\n",
        "                       )\n",
        "        input_ids.append(encoded_dict['input_ids'][0])\n",
        "        attention_masks.append(encoded_dict['attention_mask'][0])\n",
        "\n",
        "    input_ids = torch.stack(input_ids)\n",
        "    attention_masks = torch.stack(attention_masks)\n",
        "\n",
        "    # Save the tokenized data\n",
        "    tokenized_data = (input_ids, attention_masks)\n",
        "    with open(tokenized_data_path, 'wb') as file:\n",
        "        pickle.dump(tokenized_data, file)\n",
        "\n"
      ],
      "id": "jBKgPryt5ARo"
    },
    {
      "cell_type": "code",
      "execution_count": null,
      "metadata": {
        "id": "B1A6upoM7rdP"
      },
      "outputs": [],
      "source": [
        "class BertWithDropout(BertForSequenceClassification):\n",
        "    def __init__(self, config):\n",
        "        super().__init__(config)\n",
        "        self.dropout = nn.Dropout(0.1)\n",
        "\n",
        "    def forward(self, input_ids, attention_mask=None, token_type_ids=None, position_ids=None, head_mask=None,\n",
        "                labels=None):\n",
        "        outputs = self.bert(input_ids, attention_mask=attention_mask, token_type_ids=token_type_ids,\n",
        "                            position_ids=position_ids, head_mask=head_mask)\n",
        "\n",
        "        pooled_output = outputs.pooler_output\n",
        "        pooled_output = self.dropout(pooled_output)\n",
        "\n",
        "        logits = self.classifier(pooled_output)\n",
        "\n",
        "        outputs = (logits,) + outputs[2:]\n",
        "\n",
        "        if labels is not None:\n",
        "            loss_fct = nn.CrossEntropyLoss()\n",
        "            loss = loss_fct(logits.view(-1, self.num_labels), labels.view(-1))\n",
        "            outputs = (loss,) + outputs\n",
        "\n",
        "        return outputs\n",
        "\n",
        "# Initialize BERT model with dropout\n",
        "scibert = BertWithDropout.from_pretrained('allenai/scibert_scivocab_uncased', num_labels=len(unique_labels))\n",
        "scibert.to(device)\n",
        "\n",
        "# Optimizer\n",
        "optimizer = AdamW(scibert.parameters(), lr=2e-5, eps=1e-8)\n",
        "\n",
        "# Loss function\n",
        "criterion = torch.nn.CrossEntropyLoss()\n",
        "\n",
        "# Training Loop\n",
        "epochs = 3\n",
        "for epoch in range(epochs):\n",
        "    # Training phase\n",
        "    bert_base_dropout.train()\n",
        "    total_train_loss = 0\n",
        "    for batch in train_dataloader:\n",
        "        b_input_ids, b_input_mask, b_labels = batch\n",
        "        b_input_ids = b_input_ids.to(device)\n",
        "        b_input_mask = b_input_mask.to(device)\n",
        "        b_labels = b_labels.to(device)\n",
        "        scibert.zero_grad()\n",
        "\n",
        "        # Forward pass\n",
        "        outputs = scibert(b_input_ids, token_type_ids=None, attention_mask=b_input_mask, labels=b_labels)\n",
        "        loss = outputs[0]\n",
        "        total_train_loss += loss.item()\n",
        "\n",
        "        # Backward pass\n",
        "        loss.backward()\n",
        "\n",
        "        optimizer.step()\n",
        "\n",
        "    avg_train_loss = total_train_loss / len(train_dataloader)\n",
        "\n",
        "    # Validation phase\n",
        "    scibert.eval()\n",
        "    total_eval_loss = 0\n",
        "    for batch in validation_dataloader:\n",
        "        b_input_ids, b_input_mask, b_labels = batch\n",
        "        b_input_ids = b_input_ids.to(device)\n",
        "        b_input_mask = b_input_mask.to(device)\n",
        "        b_labels = b_labels.to(device)\n",
        "\n",
        "        with torch.no_grad():\n",
        "            outputs = scibert(b_input_ids, token_type_ids=None, attention_mask=b_input_mask, labels=b_labels)\n",
        "\n",
        "        loss = outputs[0]\n",
        "        total_eval_loss += loss.item()\n",
        "\n",
        "    # Average validation loss over the epoch\n",
        "    avg_val_loss = total_eval_loss / len(validation_dataloader)\n",
        "\n",
        "    print(f'Epoch {epoch + 1}/{epochs}')\n",
        "    print(f'Training loss: {avg_train_loss}')\n",
        "    print(f'Validation loss: {avg_val_loss}')"
      ],
      "id": "B1A6upoM7rdP"
    }
  ],
  "metadata": {
    "accelerator": "TPU",
    "colab": {
      "machine_shape": "hm",
      "provenance": [],
      "history_visible": true
    },
    "kernelspec": {
      "display_name": "Python 3",
      "name": "python3"
    },
    "language_info": {
      "name": "python"
    },
    "widgets": {
      "application/vnd.jupyter.widget-state+json": {
        "2333357df6734e0ab85e08e50754e5e6": {
          "model_module": "@jupyter-widgets/controls",
          "model_module_version": "1.5.0",
          "model_name": "HBoxModel",
          "state": {
            "_dom_classes": [],
            "_model_module": "@jupyter-widgets/controls",
            "_model_module_version": "1.5.0",
            "_model_name": "HBoxModel",
            "_view_count": null,
            "_view_module": "@jupyter-widgets/controls",
            "_view_module_version": "1.5.0",
            "_view_name": "HBoxView",
            "box_style": "",
            "children": [
              "IPY_MODEL_7e1672b6326e4ae89a68a45a3aa9496b",
              "IPY_MODEL_5353352a320c419c8407c4c10bb33359",
              "IPY_MODEL_8db8c2cb326847c5b8c60c180cef2c33"
            ],
            "layout": "IPY_MODEL_2a984bb96cd245a8878212dfc1ca442c"
          }
        },
        "2a984bb96cd245a8878212dfc1ca442c": {
          "model_module": "@jupyter-widgets/base",
          "model_module_version": "1.2.0",
          "model_name": "LayoutModel",
          "state": {
            "_model_module": "@jupyter-widgets/base",
            "_model_module_version": "1.2.0",
            "_model_name": "LayoutModel",
            "_view_count": null,
            "_view_module": "@jupyter-widgets/base",
            "_view_module_version": "1.2.0",
            "_view_name": "LayoutView",
            "align_content": null,
            "align_items": null,
            "align_self": null,
            "border": null,
            "bottom": null,
            "display": null,
            "flex": null,
            "flex_flow": null,
            "grid_area": null,
            "grid_auto_columns": null,
            "grid_auto_flow": null,
            "grid_auto_rows": null,
            "grid_column": null,
            "grid_gap": null,
            "grid_row": null,
            "grid_template_areas": null,
            "grid_template_columns": null,
            "grid_template_rows": null,
            "height": null,
            "justify_content": null,
            "justify_items": null,
            "left": null,
            "margin": null,
            "max_height": null,
            "max_width": null,
            "min_height": null,
            "min_width": null,
            "object_fit": null,
            "object_position": null,
            "order": null,
            "overflow": null,
            "overflow_x": null,
            "overflow_y": null,
            "padding": null,
            "right": null,
            "top": null,
            "visibility": null,
            "width": null
          }
        },
        "2d7262519c9c4aa98647dd98e14b4597": {
          "model_module": "@jupyter-widgets/controls",
          "model_module_version": "1.5.0",
          "model_name": "ProgressStyleModel",
          "state": {
            "_model_module": "@jupyter-widgets/controls",
            "_model_module_version": "1.5.0",
            "_model_name": "ProgressStyleModel",
            "_view_count": null,
            "_view_module": "@jupyter-widgets/base",
            "_view_module_version": "1.2.0",
            "_view_name": "StyleView",
            "bar_color": null,
            "description_width": ""
          }
        },
        "3dcca9fe3da0491c8e9ba50c38929cf2": {
          "model_module": "@jupyter-widgets/base",
          "model_module_version": "1.2.0",
          "model_name": "LayoutModel",
          "state": {
            "_model_module": "@jupyter-widgets/base",
            "_model_module_version": "1.2.0",
            "_model_name": "LayoutModel",
            "_view_count": null,
            "_view_module": "@jupyter-widgets/base",
            "_view_module_version": "1.2.0",
            "_view_name": "LayoutView",
            "align_content": null,
            "align_items": null,
            "align_self": null,
            "border": null,
            "bottom": null,
            "display": null,
            "flex": null,
            "flex_flow": null,
            "grid_area": null,
            "grid_auto_columns": null,
            "grid_auto_flow": null,
            "grid_auto_rows": null,
            "grid_column": null,
            "grid_gap": null,
            "grid_row": null,
            "grid_template_areas": null,
            "grid_template_columns": null,
            "grid_template_rows": null,
            "height": null,
            "justify_content": null,
            "justify_items": null,
            "left": null,
            "margin": null,
            "max_height": null,
            "max_width": null,
            "min_height": null,
            "min_width": null,
            "object_fit": null,
            "object_position": null,
            "order": null,
            "overflow": null,
            "overflow_x": null,
            "overflow_y": null,
            "padding": null,
            "right": null,
            "top": null,
            "visibility": null,
            "width": null
          }
        },
        "5353352a320c419c8407c4c10bb33359": {
          "model_module": "@jupyter-widgets/controls",
          "model_module_version": "1.5.0",
          "model_name": "FloatProgressModel",
          "state": {
            "_dom_classes": [],
            "_model_module": "@jupyter-widgets/controls",
            "_model_module_version": "1.5.0",
            "_model_name": "FloatProgressModel",
            "_view_count": null,
            "_view_module": "@jupyter-widgets/controls",
            "_view_module_version": "1.5.0",
            "_view_name": "ProgressView",
            "bar_style": "success",
            "description": "",
            "description_tooltip": null,
            "layout": "IPY_MODEL_7613fb2cb58042ed9e5e66a7891cdd95",
            "max": 440449768,
            "min": 0,
            "orientation": "horizontal",
            "style": "IPY_MODEL_2d7262519c9c4aa98647dd98e14b4597",
            "value": 440449768
          }
        },
        "7613fb2cb58042ed9e5e66a7891cdd95": {
          "model_module": "@jupyter-widgets/base",
          "model_module_version": "1.2.0",
          "model_name": "LayoutModel",
          "state": {
            "_model_module": "@jupyter-widgets/base",
            "_model_module_version": "1.2.0",
            "_model_name": "LayoutModel",
            "_view_count": null,
            "_view_module": "@jupyter-widgets/base",
            "_view_module_version": "1.2.0",
            "_view_name": "LayoutView",
            "align_content": null,
            "align_items": null,
            "align_self": null,
            "border": null,
            "bottom": null,
            "display": null,
            "flex": null,
            "flex_flow": null,
            "grid_area": null,
            "grid_auto_columns": null,
            "grid_auto_flow": null,
            "grid_auto_rows": null,
            "grid_column": null,
            "grid_gap": null,
            "grid_row": null,
            "grid_template_areas": null,
            "grid_template_columns": null,
            "grid_template_rows": null,
            "height": null,
            "justify_content": null,
            "justify_items": null,
            "left": null,
            "margin": null,
            "max_height": null,
            "max_width": null,
            "min_height": null,
            "min_width": null,
            "object_fit": null,
            "object_position": null,
            "order": null,
            "overflow": null,
            "overflow_x": null,
            "overflow_y": null,
            "padding": null,
            "right": null,
            "top": null,
            "visibility": null,
            "width": null
          }
        },
        "7e1672b6326e4ae89a68a45a3aa9496b": {
          "model_module": "@jupyter-widgets/controls",
          "model_module_version": "1.5.0",
          "model_name": "HTMLModel",
          "state": {
            "_dom_classes": [],
            "_model_module": "@jupyter-widgets/controls",
            "_model_module_version": "1.5.0",
            "_model_name": "HTMLModel",
            "_view_count": null,
            "_view_module": "@jupyter-widgets/controls",
            "_view_module_version": "1.5.0",
            "_view_name": "HTMLView",
            "description": "",
            "description_tooltip": null,
            "layout": "IPY_MODEL_3dcca9fe3da0491c8e9ba50c38929cf2",
            "placeholder": "​",
            "style": "IPY_MODEL_7e45b5cbd44f4414b7c8455308e6e28c",
            "value": "model.safetensors: 100%"
          }
        },
        "7e45b5cbd44f4414b7c8455308e6e28c": {
          "model_module": "@jupyter-widgets/controls",
          "model_module_version": "1.5.0",
          "model_name": "DescriptionStyleModel",
          "state": {
            "_model_module": "@jupyter-widgets/controls",
            "_model_module_version": "1.5.0",
            "_model_name": "DescriptionStyleModel",
            "_view_count": null,
            "_view_module": "@jupyter-widgets/base",
            "_view_module_version": "1.2.0",
            "_view_name": "StyleView",
            "description_width": ""
          }
        },
        "8db8c2cb326847c5b8c60c180cef2c33": {
          "model_module": "@jupyter-widgets/controls",
          "model_module_version": "1.5.0",
          "model_name": "HTMLModel",
          "state": {
            "_dom_classes": [],
            "_model_module": "@jupyter-widgets/controls",
            "_model_module_version": "1.5.0",
            "_model_name": "HTMLModel",
            "_view_count": null,
            "_view_module": "@jupyter-widgets/controls",
            "_view_module_version": "1.5.0",
            "_view_name": "HTMLView",
            "description": "",
            "description_tooltip": null,
            "layout": "IPY_MODEL_d53b35ac66824772a5b4b975bdf0c2e9",
            "placeholder": "​",
            "style": "IPY_MODEL_cfd7f4e865004f07971d074f79fc1e34",
            "value": " 440M/440M [00:01&lt;00:00, 224MB/s]"
          }
        },
        "cfd7f4e865004f07971d074f79fc1e34": {
          "model_module": "@jupyter-widgets/controls",
          "model_module_version": "1.5.0",
          "model_name": "DescriptionStyleModel",
          "state": {
            "_model_module": "@jupyter-widgets/controls",
            "_model_module_version": "1.5.0",
            "_model_name": "DescriptionStyleModel",
            "_view_count": null,
            "_view_module": "@jupyter-widgets/base",
            "_view_module_version": "1.2.0",
            "_view_name": "StyleView",
            "description_width": ""
          }
        },
        "d53b35ac66824772a5b4b975bdf0c2e9": {
          "model_module": "@jupyter-widgets/base",
          "model_module_version": "1.2.0",
          "model_name": "LayoutModel",
          "state": {
            "_model_module": "@jupyter-widgets/base",
            "_model_module_version": "1.2.0",
            "_model_name": "LayoutModel",
            "_view_count": null,
            "_view_module": "@jupyter-widgets/base",
            "_view_module_version": "1.2.0",
            "_view_name": "LayoutView",
            "align_content": null,
            "align_items": null,
            "align_self": null,
            "border": null,
            "bottom": null,
            "display": null,
            "flex": null,
            "flex_flow": null,
            "grid_area": null,
            "grid_auto_columns": null,
            "grid_auto_flow": null,
            "grid_auto_rows": null,
            "grid_column": null,
            "grid_gap": null,
            "grid_row": null,
            "grid_template_areas": null,
            "grid_template_columns": null,
            "grid_template_rows": null,
            "height": null,
            "justify_content": null,
            "justify_items": null,
            "left": null,
            "margin": null,
            "max_height": null,
            "max_width": null,
            "min_height": null,
            "min_width": null,
            "object_fit": null,
            "object_position": null,
            "order": null,
            "overflow": null,
            "overflow_x": null,
            "overflow_y": null,
            "padding": null,
            "right": null,
            "top": null,
            "visibility": null,
            "width": null
          }
        }
      }
    }
  },
  "nbformat": 4,
  "nbformat_minor": 5
}