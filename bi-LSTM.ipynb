{
 "cells": [
  {
   "cell_type": "code",
   "execution_count": 1,
   "metadata": {
    "id": "Yy9ikd7_Ifp9"
   },
   "outputs": [],
   "source": [
    "import numpy as np\n",
    "import pandas as pd \n",
    "import tensorflow as tf\n",
    "import matplotlib.pyplot as plt\n",
    "\n",
    "# import nltk\n",
    "from tensorflow.keras.models import Sequential\n",
    "from tensorflow.keras.layers import Dense, LSTM, Bidirectional"
   ]
  },
  {
   "cell_type": "code",
   "execution_count": 2,
   "metadata": {
    "colab": {
     "base_uri": "https://localhost:8080/"
    },
    "id": "4RATP_W1Ioq1",
    "outputId": "2b1a86ad-7125-42bb-e7c8-218b66a68bea"
   },
   "outputs": [
    {
     "name": "stderr",
     "output_type": "stream",
     "text": [
      "[nltk_data] Downloading package punkt to /home/bindra.p/nltk_data...\n",
      "[nltk_data]   Package punkt is already up-to-date!\n",
      "[nltk_data] Downloading package stopwords to\n",
      "[nltk_data]     /home/bindra.p/nltk_data...\n",
      "[nltk_data]   Package stopwords is already up-to-date!\n",
      "[nltk_data] Downloading package wordnet to /home/bindra.p/nltk_data...\n",
      "[nltk_data]   Package wordnet is already up-to-date!\n"
     ]
    }
   ],
   "source": [
    "import util as util"
   ]
  },
  {
   "cell_type": "code",
   "execution_count": 3,
   "metadata": {
    "id": "7x5WLjSlIfp_"
   },
   "outputs": [],
   "source": [
    "# get word embeddings from the gensim package\n",
    "import gensim.downloader\n",
    "\n",
    "# download the glove embeddings\n",
    "glove_vectors = gensim.downloader.load('glove-wiki-gigaword-50')"
   ]
  },
  {
   "cell_type": "code",
   "execution_count": 4,
   "metadata": {
    "id": "AwfiI8LCIfp_"
   },
   "outputs": [],
   "source": [
    "TRAIN_PATH = '../dataset/SciHTC/train_title_abstract_keywords.csv'\n",
    "TEST_PATH = '../dataset/SciHTC/test_title_abstract_keywords.csv'\n",
    "# DEV_PATH = '../dataset/SciHTC/dev_title_abstract_keywords.csv'\n",
    "\n",
    "# TRAIN_PATH = '/home/bindra.p/cs6140/Datasets/SciHTC/train_title_abstract_keywords.csv'\n",
    "# TEST_PATH = '/home/bindra.p/cs6140/Datasets/SciHTC/test_title_abstract_keywords.csv'\n",
    "# DEV_PATH = '/home/bindra.p/cs6140/Datasets/SciHTC/dev_title_abstract_keywords.csv'"
   ]
  },
  {
   "cell_type": "code",
   "execution_count": 5,
   "metadata": {
    "id": "aDvauHX4Ifp_"
   },
   "outputs": [],
   "source": [
    "MAX_LEN = 500\n",
    "EMBEDDING_DIM = 50\n",
    "# SAMPLE_SIZE = 18000"
   ]
  },
  {
   "cell_type": "code",
   "execution_count": 6,
   "metadata": {
    "id": "x05jUF9oIfp_"
   },
   "outputs": [],
   "source": [
    "# read train and test data\n",
    "train_df = util.read_data(TRAIN_PATH)\n",
    "test_df = util.read_data(TEST_PATH)\n",
    "\n",
    "input_cols = ['Title', 'Abstract']\n",
    "\n",
    "# process the data and sample some for testing; it changes to df in place.\n",
    "# Reload df if running again\n",
    "train_df = util.preprocess_data(train_df, input_cols, 'Keywords', sample_size=None)\n",
    "test_df = util.preprocess_data(test_df, input_cols, 'Keywords', sample_size=None)\n",
    "\n",
    "# set up the tokenizer\n",
    "tokenizer = util.setup_tokenizer(train_df, test_df, ['input_tokens', 'clean_kp'])\n",
    "\n",
    "# create embeddings matrix\n",
    "embeddings_matrix = util.get_embeddings_matrix(tokenizer, glove_vectors, EMBEDDING_DIM)\n",
    "\n",
    "# create the input array\n",
    "X_train, y_train = util.create_input_array(train_df, 'input_tokens', 'clean_kp', tokenizer,\n",
    "                                           embeddings_matrix, EMBEDDING_DIM, MAX_LEN)\n",
    "\n",
    "X_test, y_test = util.create_input_array(test_df, 'input_tokens', 'clean_kp', tokenizer,\n",
    "                                            embeddings_matrix, EMBEDDING_DIM, MAX_LEN)"
   ]
  },
  {
   "cell_type": "code",
   "execution_count": 9,
   "metadata": {},
   "outputs": [
    {
     "data": {
      "image/png": "[encoded data removed]",
      "text/plain": [
       "<Figure size 432x288 with 1 Axes>"
      ]
     },
     "metadata": {
      "needs_background": "light"
     },
     "output_type": "display_data"
    },
    {
     "data": {
      "text/html": [
       "<div>\n",
       "<style scoped>\n",
       "    .dataframe tbody tr th:only-of-type {\n",
       "        vertical-align: middle;\n",
       "    }\n",
       "\n",
       "    .dataframe tbody tr th {\n",
       "        vertical-align: top;\n",
       "    }\n",
       "\n",
       "    .dataframe thead th {\n",
       "        text-align: right;\n",
       "    }\n",
       "</style>\n",
       "<table border=\"1\" class=\"dataframe\">\n",
       "  <thead>\n",
       "    <tr style=\"text-align: right;\">\n",
       "      <th></th>\n",
       "      <th>count</th>\n",
       "      <th>mean</th>\n",
       "      <th>std</th>\n",
       "      <th>min</th>\n",
       "      <th>25%</th>\n",
       "      <th>50%</th>\n",
       "      <th>75%</th>\n",
       "      <th>95%</th>\n",
       "      <th>max</th>\n",
       "    </tr>\n",
       "  </thead>\n",
       "  <tbody>\n",
       "    <tr>\n",
       "      <th>0</th>\n",
       "      <td>148928.0</td>\n",
       "      <td>94.02702</td>\n",
       "      <td>36.868197</td>\n",
       "      <td>1.0</td>\n",
       "      <td>69.0</td>\n",
       "      <td>90.0</td>\n",
       "      <td>114.0</td>\n",
       "      <td>156.0</td>\n",
       "      <td>811.0</td>\n",
       "    </tr>\n",
       "  </tbody>\n",
       "</table>\n",
       "</div>"
      ],
      "text/plain": [
       "      count      mean        std  min   25%   50%    75%    95%    max\n",
       "0  148928.0  94.02702  36.868197  1.0  69.0  90.0  114.0  156.0  811.0"
      ]
     },
     "execution_count": 9,
     "metadata": {},
     "output_type": "execute_result"
    }
   ],
   "source": [
    "train_size = []\n",
    "for i in train_df['input_tokens']:\n",
    "    train_size.append(len(i))\n",
    "    \n",
    "plt.hist(train_size, bins=len(set(train_size)))\n",
    "plt.xlabel('Length of Training Size')\n",
    "plt.ylabel('Frequency')\n",
    "plt.show()\n",
    "\n",
    "pd.DataFrame(np.array(train_size)).describe(percentiles = [.25, .5, .75, .95]).transpose()"
   ]
  },
  {
   "cell_type": "code",
   "execution_count": 10,
   "metadata": {},
   "outputs": [
    {
     "data": {
      "image/png": "[encoded data removed]",
      "text/plain": [
       "<Figure size 432x288 with 1 Axes>"
      ]
     },
     "metadata": {
      "needs_background": "light"
     },
     "output_type": "display_data"
    },
    {
     "data": {
      "text/html": [
       "<div>\n",
       "<style scoped>\n",
       "    .dataframe tbody tr th:only-of-type {\n",
       "        vertical-align: middle;\n",
       "    }\n",
       "\n",
       "    .dataframe tbody tr th {\n",
       "        vertical-align: top;\n",
       "    }\n",
       "\n",
       "    .dataframe thead th {\n",
       "        text-align: right;\n",
       "    }\n",
       "</style>\n",
       "<table border=\"1\" class=\"dataframe\">\n",
       "  <thead>\n",
       "    <tr style=\"text-align: right;\">\n",
       "      <th></th>\n",
       "      <th>count</th>\n",
       "      <th>mean</th>\n",
       "      <th>std</th>\n",
       "      <th>min</th>\n",
       "      <th>25%</th>\n",
       "      <th>50%</th>\n",
       "      <th>75%</th>\n",
       "      <th>95%</th>\n",
       "      <th>max</th>\n",
       "    </tr>\n",
       "  </thead>\n",
       "  <tbody>\n",
       "    <tr>\n",
       "      <th>0</th>\n",
       "      <td>18616.0</td>\n",
       "      <td>94.053234</td>\n",
       "      <td>36.675551</td>\n",
       "      <td>5.0</td>\n",
       "      <td>69.0</td>\n",
       "      <td>91.0</td>\n",
       "      <td>114.0</td>\n",
       "      <td>157.0</td>\n",
       "      <td>497.0</td>\n",
       "    </tr>\n",
       "  </tbody>\n",
       "</table>\n",
       "</div>"
      ],
      "text/plain": [
       "     count       mean        std  min   25%   50%    75%    95%    max\n",
       "0  18616.0  94.053234  36.675551  5.0  69.0  91.0  114.0  157.0  497.0"
      ]
     },
     "execution_count": 10,
     "metadata": {},
     "output_type": "execute_result"
    }
   ],
   "source": [
    "test_size = []\n",
    "for i in test_df['input_tokens']:\n",
    "    test_size.append(len(i))\n",
    "    \n",
    "plt.hist(test_size, bins=len(set(test_size)))\n",
    "plt.xlabel('Length of Testing Size')\n",
    "plt.ylabel('Frequency')\n",
    "plt.show()\n",
    "\n",
    "pd.DataFrame(np.array(test_size)).describe(percentiles = [.25, .5, .75, .95]).transpose()"
   ]
  },
  {
   "cell_type": "code",
   "execution_count": 16,
   "metadata": {
    "colab": {
     "base_uri": "https://localhost:8080/"
    },
    "id": "3qIiTotrIfqA",
    "outputId": "111b4b9a-b1a0-4e30-a57c-43582195cf31"
   },
   "outputs": [
    {
     "name": "stdout",
     "output_type": "stream",
     "text": [
      "Model: \"sequential_1\"\n",
      "_________________________________________________________________\n",
      " Layer (type)                Output Shape              Param #   \n",
      "=================================================================\n",
      " bidirectional_2 (Bidirecti  (None, 500, 64)           21248     \n",
      " onal)                                                           \n",
      "                                                                 \n",
      " bidirectional_3 (Bidirecti  (None, 64)                24832     \n",
      " onal)                                                           \n",
      "                                                                 \n",
      " dense_1 (Dense)             (None, 500)               32500     \n",
      "                                                                 \n",
      "=================================================================\n",
      "Total params: 78580 (306.95 KB)\n",
      "Trainable params: 78580 (306.95 KB)\n",
      "Non-trainable params: 0 (0.00 Byte)\n",
      "_________________________________________________________________\n"
     ]
    }
   ],
   "source": [
    "# build bi-LSTM model\n",
    "model = Sequential()\n",
    "\n",
    "# Shujun\n",
    "# model.add(Bidirectional(LSTM(64, return_sequences=True), input_shape=(MAX_LEN, EMBEDDING_DIM)))\n",
    "# model.add(Bidirectional(LSTM(64)))\n",
    "# model.add(Dense(MAX_LEN, activation='sigmoid'))\n",
    "# model.compile(loss='binary_crossentropy', optimizer='adam', metrics=['accuracy'])\n",
    "\n",
    "model.add(Bidirectional(LSTM(32, return_sequences=True, dropout=0.3), input_shape=(MAX_LEN, EMBEDDING_DIM)))\n",
    "model.add(Bidirectional(LSTM(32, dropout=0.2)))\n",
    "model.add(Dense(MAX_LEN, activation='sigmoid'))\n",
    "model.compile(loss='binary_crossentropy', optimizer=tf.keras.optimizers.Adam(learning_rate=1e-3), metrics=['accuracy'])\n",
    "\n",
    "model.summary()"
   ]
  },
  {
   "cell_type": "code",
   "execution_count": 17,
   "metadata": {
    "id": "nmUphbC3IfqA"
   },
   "outputs": [
    {
     "name": "stdout",
     "output_type": "stream",
     "text": [
      "Epoch 1/5\n",
      "4654/4654 [==============================] - 1143s 244ms/step - loss: 0.0915 - accuracy: 0.1778\n",
      "Epoch 2/5\n",
      "4654/4654 [==============================] - 1121s 241ms/step - loss: 0.0816 - accuracy: 0.1815\n",
      "Epoch 3/5\n",
      "4654/4654 [==============================] - 1117s 240ms/step - loss: 0.0795 - accuracy: 0.1869\n",
      "Epoch 4/5\n",
      "4654/4654 [==============================] - 1114s 239ms/step - loss: 0.0790 - accuracy: 0.2016\n",
      "Epoch 5/5\n",
      "4654/4654 [==============================] - 1114s 239ms/step - loss: 0.0786 - accuracy: 0.2068\n"
     ]
    }
   ],
   "source": [
    "# fit model\n",
    "model_data = model.fit(X_train, y_train, epochs=5, verbose=1)"
   ]
  },
  {
   "cell_type": "code",
   "execution_count": 18,
   "metadata": {
    "id": "odpSD8qPIfqA"
   },
   "outputs": [
    {
     "data": {
      "image/png": "[encoded data removed]",
      "text/plain": [
       "<Figure size 432x288 with 1 Axes>"
      ]
     },
     "metadata": {
      "needs_background": "light"
     },
     "output_type": "display_data"
    }
   ],
   "source": [
    "loss = model_data.history['loss']\n",
    "acc = model_data.history['accuracy']\n",
    "epoch_count = range(1, len(loss) + 1)\n",
    "\n",
    "# Visualize graph\n",
    "plt.plot(epoch_count, loss, 'r--')\n",
    "plt.plot(epoch_count, acc, 'b-')\n",
    "plt.legend(['Training Loss', 'Accuracy'])\n",
    "plt.xlabel('Epoch')  \n",
    "plt.ylabel('Training Data')\n",
    "plt.show()"
   ]
  },
  {
   "cell_type": "code",
   "execution_count": 19,
   "metadata": {},
   "outputs": [
    {
     "name": "stdout",
     "output_type": "stream",
     "text": [
      "INFO:tensorflow:Assets written to: /home/bindra.p/cs6140/bi_lstm_model_3/assets\n"
     ]
    },
    {
     "name": "stderr",
     "output_type": "stream",
     "text": [
      "INFO:tensorflow:Assets written to: /home/bindra.p/cs6140/bi_lstm_model_3/assets\n"
     ]
    }
   ],
   "source": [
    "# model.save('/home/bindra.p/cs6140/bi_lstm_model_3')"
   ]
  },
  {
   "cell_type": "code",
   "execution_count": 11,
   "metadata": {},
   "outputs": [],
   "source": [
    "model_1 = tf.keras.models.load_model('bi_lstm_model_1')\n",
    "model_2 = tf.keras.models.load_model('bi_lstm_model_2')\n",
    "model_3 = tf.keras.models.load_model('bi_lstm_model_3')"
   ]
  },
  {
   "cell_type": "code",
   "execution_count": 12,
   "metadata": {},
   "outputs": [
    {
     "name": "stdout",
     "output_type": "stream",
     "text": [
      "Model: \"sequential\"\n",
      "_________________________________________________________________\n",
      " Layer (type)                Output Shape              Param #   \n",
      "=================================================================\n",
      " bidirectional (Bidirection  (None, 500, 128)          58880     \n",
      " al)                                                             \n",
      "                                                                 \n",
      " bidirectional_1 (Bidirecti  (None, 128)               98816     \n",
      " onal)                                                           \n",
      "                                                                 \n",
      " dense (Dense)               (None, 500)               64500     \n",
      "                                                                 \n",
      "=================================================================\n",
      "Total params: 222196 (867.95 KB)\n",
      "Trainable params: 222196 (867.95 KB)\n",
      "Non-trainable params: 0 (0.00 Byte)\n",
      "_________________________________________________________________\n"
     ]
    }
   ],
   "source": [
    "model_1.summary()"
   ]
  },
  {
   "cell_type": "code",
   "execution_count": 13,
   "metadata": {},
   "outputs": [
    {
     "name": "stdout",
     "output_type": "stream",
     "text": [
      "Model: \"sequential\"\n",
      "_________________________________________________________________\n",
      " Layer (type)                Output Shape              Param #   \n",
      "=================================================================\n",
      " bidirectional (Bidirection  (None, 500, 64)           21248     \n",
      " al)                                                             \n",
      "                                                                 \n",
      " bidirectional_1 (Bidirecti  (None, 64)                24832     \n",
      " onal)                                                           \n",
      "                                                                 \n",
      " dense (Dense)               (None, 500)               32500     \n",
      "                                                                 \n",
      "=================================================================\n",
      "Total params: 78580 (306.95 KB)\n",
      "Trainable params: 78580 (306.95 KB)\n",
      "Non-trainable params: 0 (0.00 Byte)\n",
      "_________________________________________________________________\n"
     ]
    }
   ],
   "source": [
    "model_2.summary()"
   ]
  },
  {
   "cell_type": "code",
   "execution_count": 14,
   "metadata": {},
   "outputs": [
    {
     "name": "stdout",
     "output_type": "stream",
     "text": [
      "Model: \"sequential_1\"\n",
      "_________________________________________________________________\n",
      " Layer (type)                Output Shape              Param #   \n",
      "=================================================================\n",
      " bidirectional_2 (Bidirecti  (None, 500, 64)           21248     \n",
      " onal)                                                           \n",
      "                                                                 \n",
      " bidirectional_3 (Bidirecti  (None, 64)                24832     \n",
      " onal)                                                           \n",
      "                                                                 \n",
      " dense_1 (Dense)             (None, 500)               32500     \n",
      "                                                                 \n",
      "=================================================================\n",
      "Total params: 78580 (306.95 KB)\n",
      "Trainable params: 78580 (306.95 KB)\n",
      "Non-trainable params: 0 (0.00 Byte)\n",
      "_________________________________________________________________\n"
     ]
    }
   ],
   "source": [
    "model_3.summary()"
   ]
  },
  {
   "cell_type": "code",
   "execution_count": 41,
   "metadata": {},
   "outputs": [
    {
     "name": "stdout",
     "output_type": "stream",
     "text": [
      "582/582 [==============================] - 52s 90ms/step\n"
     ]
    },
    {
     "data": {
      "text/plain": [
       "[['eda', 'mooc', 'massive'],\n",
       " ['public', 'participation', 'despite'],\n",
       " ['vote', 'work', 'describe'],\n",
       " ['electromagnetism', 'multi-objective', 'evolutionary'],\n",
       " ['constraint', 'creative', 'process']]"
      ]
     },
     "execution_count": 41,
     "metadata": {},
     "output_type": "execute_result"
    }
   ],
   "source": [
    "# testing prediction - MODEL 1\n",
    "preds = model_1.predict(X_test)\n",
    "\n",
    "# print prediction\n",
    "pred_kws = util.pred_to_keywords(preds, test_df['input_tokens'].values, threshold=0.35)\n",
    "pred_kws[:5]"
   ]
  },
  {
   "cell_type": "code",
   "execution_count": 42,
   "metadata": {},
   "outputs": [
    {
     "name": "stdout",
     "output_type": "stream",
     "text": [
      "582/582 [==============================] - 34s 58ms/step\n"
     ]
    },
    {
     "data": {
      "text/plain": [
       "[['eda', 'mooc', 'massive', 'open'],\n",
       " ['public', 'participation', 'despite', 'many'],\n",
       " ['vote', 'work', 'describe', 'conversation'],\n",
       " ['electromagnetism', 'multi-objective', 'evolutionary', 'algorithm'],\n",
       " ['constraint', 'creative', 'process', 'digital']]"
      ]
     },
     "execution_count": 42,
     "metadata": {},
     "output_type": "execute_result"
    }
   ],
   "source": [
    "# testing prediction - MODEL 2\n",
    "preds = model_2.predict(X_test)\n",
    "    \n",
    "# print prediction\n",
    "pred_kws = util.pred_to_keywords(preds, test_df['input_tokens'].values, threshold=0.35)\n",
    "pred_kws[:5]"
   ]
  },
  {
   "cell_type": "code",
   "execution_count": 45,
   "metadata": {},
   "outputs": [
    {
     "name": "stdout",
     "output_type": "stream",
     "text": [
      "582/582 [==============================] - 36s 62ms/step\n"
     ]
    },
    {
     "data": {
      "text/plain": [
       "[['mooc', 'massive', 'open'],\n",
       " ['gamers', 'public'],\n",
       " [],\n",
       " ['hybridization',\n",
       "  'electromagnetism',\n",
       "  'multi-objective',\n",
       "  'evolutionary',\n",
       "  'algorithm',\n",
       "  'rcpsp'],\n",
       " ['freedom', 'constraint', 'creative', 'process', 'digital']]"
      ]
     },
     "execution_count": 45,
     "metadata": {},
     "output_type": "execute_result"
    }
   ],
   "source": [
    "# testing prediction - MODEL 3\n",
    "preds = model_3.predict(X_test)\n",
    "    \n",
    "# print prediction\n",
    "pred_kws = util.pred_to_keywords(preds, test_df['input_tokens'].values, threshold=0.35)\n",
    "pred_kws[:5]"
   ]
  }
 ],
 "metadata": {
  "accelerator": "GPU",
  "colab": {
   "gpuType": "T4",
   "provenance": []
  },
  "kernelspec": {
   "display_name": "Python 3",
   "language": "python",
   "name": "python3"
  },
  "language_info": {
   "codemirror_mode": {
    "name": "ipython",
    "version": 3
   },
   "file_extension": ".py",
   "mimetype": "text/x-python",
   "name": "python",
   "nbconvert_exporter": "python",
   "pygments_lexer": "ipython3",
   "version": "3.11.6"
  }
 },
 "nbformat": 4,
 "nbformat_minor": 4
}
