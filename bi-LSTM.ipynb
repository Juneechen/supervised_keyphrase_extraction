{
 "cells": [
  {
   "cell_type": "code",
   "execution_count": 1,
   "metadata": {
    "id": "Yy9ikd7_Ifp9"
   },
   "outputs": [],
   "source": [
    "import tensorflow as tf\n",
    "import matplotlib.pyplot as plt\n",
    "\n",
    "# import nltk\n",
    "from tensorflow.keras.models import Sequential\n",
    "from tensorflow.keras.layers import Dense, LSTM, Bidirectional"
   ]
  },
  {
   "cell_type": "code",
   "execution_count": 2,
   "metadata": {
    "colab": {
     "base_uri": "https://localhost:8080/"
    },
    "id": "4RATP_W1Ioq1",
    "outputId": "2b1a86ad-7125-42bb-e7c8-218b66a68bea"
   },
   "outputs": [
    {
     "name": "stderr",
     "output_type": "stream",
     "text": [
      "[nltk_data] Downloading package punkt to /home/bindra.p/nltk_data...\n",
      "[nltk_data]   Package punkt is already up-to-date!\n",
      "[nltk_data] Downloading package stopwords to\n",
      "[nltk_data]     /home/bindra.p/nltk_data...\n",
      "[nltk_data]   Package stopwords is already up-to-date!\n",
      "[nltk_data] Downloading package wordnet to /home/bindra.p/nltk_data...\n",
      "[nltk_data]   Package wordnet is already up-to-date!\n"
     ]
    }
   ],
   "source": [
    "import util as util"
   ]
  },
  {
   "cell_type": "code",
   "execution_count": 3,
   "metadata": {
    "id": "7x5WLjSlIfp_"
   },
   "outputs": [],
   "source": [
    "# get word embeddings from the gensim package\n",
    "import gensim.downloader\n",
    "\n",
    "# download the glove embeddings\n",
    "glove_vectors = gensim.downloader.load('glove-wiki-gigaword-50')"
   ]
  },
  {
   "cell_type": "code",
   "execution_count": 4,
   "metadata": {
    "id": "AwfiI8LCIfp_"
   },
   "outputs": [],
   "source": [
    "TRAIN_PATH = '../dataset/SciHTC/train_title_abstract_keywords.csv'\n",
    "TEST_PATH = '../dataset/SciHTC/test_title_abstract_keywords.csv'\n",
    "DEV_PATH = '../dataset/SciHTC/dev_title_abstract_keywords.csv'\n",
    "\n",
    "# TRAIN_PATH = '/home/bindra.p/cs6140/Datasets/SciHTC/train_title_abstract_keywords.csv'\n",
    "# TEST_PATH = '/home/bindra.p/cs6140/Datasets/SciHTC/test_title_abstract_keywords.csv'\n",
    "# DEV_PATH = '/home/bindra.p/cs6140/Datasets/SciHTC/dev_title_abstract_keywords.csv'"
   ]
  },
  {
   "cell_type": "code",
   "execution_count": 5,
   "metadata": {
    "id": "aDvauHX4Ifp_"
   },
   "outputs": [],
   "source": [
    "MAX_LEN = 500\n",
    "EMBEDDING_DIM = 50\n",
    "# SAMPLE_SIZE = 18000"
   ]
  },
  {
   "cell_type": "code",
   "execution_count": 6,
   "metadata": {
    "id": "x05jUF9oIfp_"
   },
   "outputs": [],
   "source": [
    "# read train and test data\n",
    "train_df = util.read_data(TRAIN_PATH)\n",
    "test_df = util.read_data(TEST_PATH)\n",
    "\n",
    "input_cols = ['Title', 'Abstract']\n",
    "\n",
    "# process the data and sample some for testing; it changes to df in place.\n",
    "# Reload df if running again\n",
    "train_df = util.preprocess_data(train_df, input_cols, 'Keywords', sample_size=None)\n",
    "test_df = util.preprocess_data(test_df, input_cols, 'Keywords', sample_size=None)\n",
    "# test_df = util.preprocess_data(test_df, input_cols, 'Keywords')\n",
    "\n",
    "# set up the tokenizer\n",
    "tokenizer = util.setup_tokenizer(train_df, test_df, ['input_tokens', 'clean_kp'])\n",
    "\n",
    "# create embeddings matrix\n",
    "embeddings_matrix = util.get_embeddings_matrix(tokenizer, glove_vectors, EMBEDDING_DIM)\n",
    "\n",
    "# create the input array\n",
    "X_train, y_train = util.create_input_array(train_df, 'input_tokens', 'clean_kp', tokenizer,\n",
    "                                           embeddings_matrix, EMBEDDING_DIM, MAX_LEN)\n",
    "\n",
    "X_test, y_test = util.create_input_array(test_df, 'input_tokens', 'clean_kp', tokenizer,\n",
    "                                            embeddings_matrix, EMBEDDING_DIM, MAX_LEN)\n"
   ]
  },
  {
   "cell_type": "code",
   "execution_count": 8,
   "metadata": {
    "colab": {
     "base_uri": "https://localhost:8080/"
    },
    "id": "LKK6_4-uIfqA",
    "outputId": "07a3be32-8030-4217-9ccf-886320c17d89"
   },
   "outputs": [
    {
     "name": "stdout",
     "output_type": "stream",
     "text": [
      "embeddings_matrix shape: (436619, 50)\n",
      "X_train shape: (148928, 500, 50)\n",
      "y_train shape: (148928, 500)\n",
      "X_test shape: (18616, 500, 50)\n",
      "y_test shape: (18616, 500)\n",
      "Number of words in the vocabulary: 436619\n",
      "original samples max length: 811\n"
     ]
    }
   ],
   "source": [
    "print(\"embeddings_matrix shape:\", embeddings_matrix.shape)\n",
    "print(\"X_train shape:\", X_train.shape)\n",
    "print(\"y_train shape:\", y_train.shape)\n",
    "print(\"X_test shape:\", X_test.shape)\n",
    "print(\"y_test shape:\", y_test.shape)\n",
    "\n",
    "print(\"Number of words in the vocabulary:\", len(tokenizer.word_index))\n",
    "\n",
    "# find the max length of the input sequences\n",
    "max_length = max([len(seq) for seq in train_df['input_tokens']])\n",
    "print(\"original samples max length:\", max_length)"
   ]
  },
  {
   "cell_type": "code",
   "execution_count": 16,
   "metadata": {
    "colab": {
     "base_uri": "https://localhost:8080/"
    },
    "id": "3qIiTotrIfqA",
    "outputId": "111b4b9a-b1a0-4e30-a57c-43582195cf31"
   },
   "outputs": [
    {
     "name": "stdout",
     "output_type": "stream",
     "text": [
      "Model: \"sequential_1\"\n",
      "_________________________________________________________________\n",
      " Layer (type)                Output Shape              Param #   \n",
      "=================================================================\n",
      " bidirectional_2 (Bidirecti  (None, 500, 64)           21248     \n",
      " onal)                                                           \n",
      "                                                                 \n",
      " bidirectional_3 (Bidirecti  (None, 64)                24832     \n",
      " onal)                                                           \n",
      "                                                                 \n",
      " dense_1 (Dense)             (None, 500)               32500     \n",
      "                                                                 \n",
      "=================================================================\n",
      "Total params: 78580 (306.95 KB)\n",
      "Trainable params: 78580 (306.95 KB)\n",
      "Non-trainable params: 0 (0.00 Byte)\n",
      "_________________________________________________________________\n"
     ]
    }
   ],
   "source": [
    "# build bi-LSTM model\n",
    "model = Sequential()\n",
    "\n",
    "# Shujun\n",
    "# model.add(Bidirectional(LSTM(64, return_sequences=True), input_shape=(MAX_LEN, EMBEDDING_DIM)))\n",
    "# model.add(Bidirectional(LSTM(64)))\n",
    "# model.add(Dense(MAX_LEN, activation='sigmoid'))\n",
    "# model.compile(loss='binary_crossentropy', optimizer='adam', metrics=['accuracy'])\n",
    "\n",
    "model.add(Bidirectional(LSTM(32, return_sequences=True, dropout=0.3), input_shape=(MAX_LEN, EMBEDDING_DIM)))\n",
    "model.add(Bidirectional(LSTM(32, dropout=0.2)))\n",
    "model.add(Dense(MAX_LEN, activation='sigmoid'))\n",
    "model.compile(loss='binary_crossentropy', optimizer=tf.keras.optimizers.Adam(learning_rate=1e-3), metrics=['accuracy'])\n",
    "\n",
    "model.summary()"
   ]
  },
  {
   "cell_type": "code",
   "execution_count": 17,
   "metadata": {
    "id": "nmUphbC3IfqA"
   },
   "outputs": [
    {
     "name": "stdout",
     "output_type": "stream",
     "text": [
      "Epoch 1/5\n",
      "4654/4654 [==============================] - 1143s 244ms/step - loss: 0.0915 - accuracy: 0.1778\n",
      "Epoch 2/5\n",
      "4654/4654 [==============================] - 1121s 241ms/step - loss: 0.0816 - accuracy: 0.1815\n",
      "Epoch 3/5\n",
      "4654/4654 [==============================] - 1117s 240ms/step - loss: 0.0795 - accuracy: 0.1869\n",
      "Epoch 4/5\n",
      "4654/4654 [==============================] - 1114s 239ms/step - loss: 0.0790 - accuracy: 0.2016\n",
      "Epoch 5/5\n",
      "4654/4654 [==============================] - 1114s 239ms/step - loss: 0.0786 - accuracy: 0.2068\n"
     ]
    }
   ],
   "source": [
    "# fit model\n",
    "model_data = model.fit(X_train, y_train, epochs=5, verbose=1)"
   ]
  },
  {
   "cell_type": "code",
   "execution_count": 18,
   "metadata": {
    "id": "odpSD8qPIfqA"
   },
   "outputs": [
    {
     "data": {
      "image/png": "[encoded data removed]",
      "text/plain": [
       "<Figure size 432x288 with 1 Axes>"
      ]
     },
     "metadata": {
      "needs_background": "light"
     },
     "output_type": "display_data"
    }
   ],
   "source": [
    "loss = model_data.history['loss']\n",
    "acc = model_data.history['accuracy']\n",
    "epoch_count = range(1, len(loss) + 1)\n",
    "\n",
    "# Visualize graph\n",
    "plt.plot(epoch_count, loss, 'r--')\n",
    "plt.plot(epoch_count, acc, 'b-')\n",
    "plt.legend(['Training Loss', 'Accuracy'])\n",
    "plt.xlabel('Epoch')  \n",
    "plt.ylabel('Training Data')\n",
    "plt.show()"
   ]
  },
  {
   "cell_type": "code",
   "execution_count": 19,
   "metadata": {},
   "outputs": [
    {
     "name": "stdout",
     "output_type": "stream",
     "text": [
      "INFO:tensorflow:Assets written to: /home/bindra.p/cs6140/bi_lstm_model_3/assets\n"
     ]
    },
    {
     "name": "stderr",
     "output_type": "stream",
     "text": [
      "INFO:tensorflow:Assets written to: /home/bindra.p/cs6140/bi_lstm_model_3/assets\n"
     ]
    }
   ],
   "source": [
    "model.save('/home/bindra.p/cs6140/bi_lstm_model_3')"
   ]
  },
  {
   "cell_type": "code",
   "execution_count": null,
   "metadata": {},
   "outputs": [],
   "source": [
    "# testing prediction\n",
    "preds = model.predict(X_test)\n",
    "\n",
    "print(len(preds))\n",
    "print(preds)\n",
    "\n",
    "# print prediction\n",
    "pred_kws = util.pred_to_keywords(preds, test_df['input_tokens'].values)\n",
    "print(pred_kws)"
   ]
  }
 ],
 "metadata": {
  "accelerator": "GPU",
  "colab": {
   "gpuType": "T4",
   "provenance": []
  },
  "kernelspec": {
   "display_name": "Python 3",
   "language": "python",
   "name": "python3"
  },
  "language_info": {
   "codemirror_mode": {
    "name": "ipython",
    "version": 3
   },
   "file_extension": ".py",
   "mimetype": "text/x-python",
   "name": "python",
   "nbconvert_exporter": "python",
   "pygments_lexer": "ipython3",
   "version": "3.8.8"
  }
 },
 "nbformat": 4,
 "nbformat_minor": 4
}
